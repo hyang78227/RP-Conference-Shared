{
 "cells": [
  {
   "cell_type": "markdown",
   "id": "68527d81-6fc1-4347-884a-6a123b13d4bb",
   "metadata": {},
   "source": [
    "# 1. Import Python Pakcages "
   ]
  },
  {
   "cell_type": "code",
   "execution_count": 1,
   "id": "3b03c7f9-3dd9-4fb1-b32a-e5796a0b50d1",
   "metadata": {
    "execution": {
     "iopub.execute_input": "2025-03-27T04:07:19.585171Z",
     "iopub.status.busy": "2025-03-27T04:07:19.584172Z",
     "iopub.status.idle": "2025-03-27T04:07:20.557114Z",
     "shell.execute_reply": "2025-03-27T04:07:20.557114Z"
    }
   },
   "outputs": [],
   "source": [
    "import pandas as pd\n",
    "import os\n",
    "import numpy as np\n",
    "import matplotlib.pyplot as plt\n",
    "import seaborn as sns"
   ]
  },
  {
   "cell_type": "markdown",
   "id": "98bd450d-3970-4fff-b4a8-574c144b499f",
   "metadata": {},
   "source": [
    "# 2. Import \"Special Admit Foundation\" Data"
   ]
  },
  {
   "cell_type": "code",
   "execution_count": 2,
   "id": "9ee08755-712c-44cb-a4b9-066cb94f7844",
   "metadata": {
    "execution": {
     "iopub.execute_input": "2025-03-27T04:07:20.557114Z",
     "iopub.status.busy": "2025-03-27T04:07:20.557114Z",
     "iopub.status.idle": "2025-03-27T04:07:20.570468Z",
     "shell.execute_reply": "2025-03-27T04:07:20.570468Z"
    }
   },
   "outputs": [
    {
     "name": "stdout",
     "output_type": "stream",
     "text": [
      "True\n",
      "   StudentID         Ethnicity     AcYr  EnrollType AdmitType HighSchool  \\\n",
      "0          1            Latinx  2023-24  Concurrent      Conc          A   \n",
      "1          2             Asian  2023-24        CCAP      Dual          B   \n",
      "2          3   Multi-Ethnicity  2023-24  Concurrent      Conc          C   \n",
      "3          4            Latinx  2023-24  Concurrent      Conc          D   \n",
      "4          5  African American  2023-24  Concurrent      Conc          D   \n",
      "\n",
      "               District College  \n",
      "0  High School District    ABCD  \n",
      "1  High School District    ABCD  \n",
      "2  High School District    ABCD  \n",
      "3  High School District    ABCD  \n",
      "4  High School District    ABCD  \n"
     ]
    }
   ],
   "source": [
    "# Define the file path to import Special Admit Foundation Data\n",
    "# Replace \"sampledrive\\samplefolder\\samplefile\" with correct path (\"drive\\folder\\file\")\n",
    "file_path = r'C:\\Project Files\\CDE 2024 Python\\RP_Conference_Share\\Special Admit Foundation_sample.csv'\n",
    "\n",
    "#check to see if the file path exists  \n",
    "print(os.path.exists(file_path))  # Return \"True\" or \"Flase\"\n",
    "\n",
    "# Read the file into a DataFrame named \"df_ecc_2324\"\n",
    "# Assuming the file is delimited by a specific character, for example, a comma. \n",
    "# Adjust the delimiter as needed.\n",
    "df_ecc_2324 = pd.read_csv(file_path, delimiter=',', low_memory=False)  # Change delimiter if necessary\n",
    "\n",
    "# (Optional) Display the first few rows and the shape of the DataFrame to verify\n",
    "print(df_ecc_2324.head())"
   ]
  },
  {
   "cell_type": "markdown",
   "id": "af8fbb5e-2532-4084-b25c-6686b390d140",
   "metadata": {},
   "source": [
    "### Check on Required Columns/Values"
   ]
  },
  {
   "cell_type": "code",
   "execution_count": 3,
   "id": "9afc2845-9c7d-4ebb-b1d3-3242e15a7ef9",
   "metadata": {
    "execution": {
     "iopub.execute_input": "2025-03-27T04:07:20.571488Z",
     "iopub.status.busy": "2025-03-27T04:07:20.571488Z",
     "iopub.status.idle": "2025-03-27T04:07:20.578303Z",
     "shell.execute_reply": "2025-03-27T04:07:20.578303Z"
    }
   },
   "outputs": [
    {
     "name": "stdout",
     "output_type": "stream",
     "text": [
      "<class 'pandas.core.frame.DataFrame'>\n",
      "RangeIndex: 1138 entries, 0 to 1137\n",
      "Data columns (total 8 columns):\n",
      " #   Column      Non-Null Count  Dtype \n",
      "---  ------      --------------  ----- \n",
      " 0   StudentID   1138 non-null   int64 \n",
      " 1   Ethnicity   1138 non-null   object\n",
      " 2   AcYr        1138 non-null   object\n",
      " 3   EnrollType  1138 non-null   object\n",
      " 4   AdmitType   1138 non-null   object\n",
      " 5   HighSchool  1138 non-null   object\n",
      " 6   District    1138 non-null   object\n",
      " 7   College     1138 non-null   object\n",
      "dtypes: int64(1), object(7)\n",
      "memory usage: 71.3+ KB\n"
     ]
    }
   ],
   "source": [
    "# The .info() method displays summary information about the dataframe,  \n",
    "# including the number of non-null values, data types, and memory usage.  \n",
    "df_ecc_2324.info()"
   ]
  },
  {
   "cell_type": "code",
   "execution_count": 4,
   "id": "451e1f5e-4004-4127-a04d-a9378f769622",
   "metadata": {
    "execution": {
     "iopub.execute_input": "2025-03-27T04:07:20.580824Z",
     "iopub.status.busy": "2025-03-27T04:07:20.578303Z",
     "iopub.status.idle": "2025-03-27T04:07:20.585678Z",
     "shell.execute_reply": "2025-03-27T04:07:20.585678Z"
    }
   },
   "outputs": [
    {
     "name": "stdout",
     "output_type": "stream",
     "text": [
      "All required columns are present.\n",
      "All required 'EnrollType' values are present.\n",
      "All required 'AdmitType' values are present.\n",
      "Data validation completed successfully.\n"
     ]
    }
   ],
   "source": [
    "# Verify the required columns and values for processing\n",
    "\n",
    "# Required column names\n",
    "required_columns = ['StudentID', 'Ethnicity', 'AcYr', 'AdmitType', 'EnrollType', 'HighSchool']\n",
    "\n",
    "# Check for missing columns\n",
    "missing_columns = [col for col in required_columns if col not in df_ecc_2324.columns]\n",
    "if missing_columns:\n",
    "    raise ValueError(f\"Missing required columns: {missing_columns}\")\n",
    "else:\n",
    "    print(\"All required columns are present.\")\n",
    "\n",
    "# Verify required values in 'EnrollType'\n",
    "required_enroll_types = {\"NCD\",\"CCAP\", \"Concurrent\"}\n",
    "actual_enroll_types = set(df_ecc_2324['EnrollType'].unique())\n",
    "missing_enroll_types = required_enroll_types - actual_enroll_types\n",
    "if missing_enroll_types:\n",
    "    raise ValueError(f\"Missing required values in 'EnrollType': {missing_enroll_types}\")\n",
    "else:\n",
    "    print(\"All required 'EnrollType' values are present.\")\n",
    "\n",
    "# Verify required values in 'AdmitType'\n",
    "required_admit_types = {\"Conc\", \"Dual\"}\n",
    "actual_admit_types = set(df_ecc_2324['AdmitType'].unique())\n",
    "missing_admit_types = required_admit_types - actual_admit_types\n",
    "if missing_admit_types:\n",
    "    raise ValueError(f\"Missing required values in 'AdmitType': {missing_admit_types}\")\n",
    "else:\n",
    "    print(\"All required 'AdmitType' values are present.\")\n",
    "\n",
    "# Optionally rename columns if needed\n",
    "i_renameCol = 0  # Set to 1 if renaming is required\n",
    "\n",
    "if i_renameCol == 1:\n",
    "    # Define renaming map\n",
    "    rename_dict = {\n",
    "        'OldColumnName1': 'NewColumnName1',\n",
    "        'OldColumnName2': 'NewColumnName2',\n",
    "        'OldColumnName3': 'NewColumnName3',\n",
    "        # Add more mappings if needed\n",
    "    }\n",
    "    \n",
    "    # Rename columns\n",
    "    df_ecc_2324 = df_ecc_2324.rename(columns=rename_dict)\n",
    "\n",
    "    # Display updated dataframe\n",
    "    print(\"Updated Dataframe Preview:\")\n",
    "    print(df_ecc_2324.head())\n",
    "\n",
    "# Output to confirm successful validation\n",
    "print(\"Data validation completed successfully.\")"
   ]
  },
  {
   "cell_type": "markdown",
   "id": "1152a1f4-9110-4955-af33-afd04323a975",
   "metadata": {},
   "source": [
    " ### Clean up \"HighSchool\" for missing values, if needed"
   ]
  },
  {
   "cell_type": "code",
   "execution_count": 5,
   "id": "33c0f68b-d357-4147-aff2-e7f5d9c52087",
   "metadata": {
    "execution": {
     "iopub.execute_input": "2025-03-27T04:07:20.587200Z",
     "iopub.status.busy": "2025-03-27T04:07:20.587200Z",
     "iopub.status.idle": "2025-03-27T04:07:20.592426Z",
     "shell.execute_reply": "2025-03-27T04:07:20.592426Z"
    }
   },
   "outputs": [
    {
     "name": "stdout",
     "output_type": "stream",
     "text": [
      "HighSchool\n",
      "K     217\n",
      "H     194\n",
      "J     106\n",
      "I      89\n",
      "G      75\n",
      "D      74\n",
      "F      62\n",
      "N      62\n",
      "C      57\n",
      "E      45\n",
      "A      43\n",
      "M      41\n",
      "B      39\n",
      "L      34\n",
      "Name: count, dtype: int64\n",
      "HighSchool\n",
      "K     217\n",
      "H     194\n",
      "J     106\n",
      "I      89\n",
      "G      75\n",
      "D      74\n",
      "F      62\n",
      "N      62\n",
      "C      57\n",
      "E      45\n",
      "A      43\n",
      "M      41\n",
      "B      39\n",
      "L      34\n",
      "Name: count, dtype: int64\n"
     ]
    }
   ],
   "source": [
    "# Display the count of unique values in the 'HighSchool' column, including NaN values.\n",
    "# This helps check the distribution of high school names and detect missing or inconsistent entries.\n",
    "print(df_ecc_2324.HighSchool.value_counts(dropna=False))\n",
    "\n",
    "# Comment: Identified that missing values in the 'HighSchool' column are represented by various symbols:\n",
    "# blank (''), double quotes ('\"\"'), and a space (' '). These values need to be standardized to 'Unreported'.\n",
    "# This ensures consistency in how missing values are handled and prevents errors during analysis.\n",
    "df_ecc_2324['HighSchool'] = df_ecc_2324['HighSchool'].replace(['', '\"\"', ' '], 'Unreported')\n",
    "\n",
    "# Optionally, display the updated 'HighSchool' column to verify changes.\n",
    "print(df_ecc_2324['HighSchool'].value_counts(dropna=False))"
   ]
  },
  {
   "cell_type": "markdown",
   "id": "2e45d64c-9ca5-49e6-ae20-117ee2e79839",
   "metadata": {},
   "source": [
    " ### Check Columns \"AcYr\", \"EnrollType\", \"Ethnicity\", \"AdmitType\""
   ]
  },
  {
   "cell_type": "code",
   "execution_count": 6,
   "id": "a0d56a26-1a1b-47c9-b2ae-b467ae98b53e",
   "metadata": {
    "execution": {
     "iopub.execute_input": "2025-03-27T04:07:20.592426Z",
     "iopub.status.busy": "2025-03-27T04:07:20.592426Z",
     "iopub.status.idle": "2025-03-27T04:07:20.599072Z",
     "shell.execute_reply": "2025-03-27T04:07:20.599072Z"
    }
   },
   "outputs": [
    {
     "name": "stdout",
     "output_type": "stream",
     "text": [
      "EnrollType\n",
      "CCAP          673\n",
      "NCD           408\n",
      "Concurrent     57\n",
      "Name: count, dtype: int64\n",
      "AcYr\n",
      "2023-24    469\n",
      "2021-22    437\n",
      "2022-23    232\n",
      "Name: count, dtype: int64\n",
      "Ethnicity\n",
      "Latinx              362\n",
      "White               231\n",
      "Asian               193\n",
      "Filipino            162\n",
      "Multi-Ethnicity     105\n",
      "African American     64\n",
      "Unreported           16\n",
      "Pacific Islander      3\n",
      "Native American       2\n",
      "Name: count, dtype: int64\n",
      "AdmitType\n",
      "Dual    1074\n",
      "Conc      64\n",
      "Name: count, dtype: int64\n"
     ]
    }
   ],
   "source": [
    "# Display the count of unique values in the 'EnrollType' column, including NaN values.\n",
    "# This helps identify the distribution of enroll types and detect any missing values (NaN).\n",
    "print(df_ecc_2324.EnrollType.value_counts(dropna=False))\n",
    "\n",
    "# Display the count of unique values in the 'AcYr' (Academic Year) column, including NaN values.\n",
    "# This will give an overview of the academic years present in the dataset, including any missing years.\n",
    "print(df_ecc_2324.AcYr.value_counts(dropna=False))\n",
    "\n",
    "# Display the count of unique values in the 'Ethnicity' column, including NaN values.\n",
    "# This shows the distribution of ethnicities in the dataset, including any missing data (NaN).\n",
    "print(df_ecc_2324.Ethnicity.value_counts(dropna=False))\n",
    "\n",
    "# Display the count of unique values in the 'AdmitType' column, including NaN values.\n",
    "# This shows the distribution of ethnicities in the dataset, including any missing data (NaN).\n",
    "print(df_ecc_2324.AdmitType.value_counts(dropna=False))"
   ]
  },
  {
   "cell_type": "markdown",
   "id": "6fb711ec-dfc4-42dc-96d8-8e82ce09c30a",
   "metadata": {},
   "source": [
    " ### Two way contigency tables to examine distribution of data, if needed"
   ]
  },
  {
   "cell_type": "code",
   "execution_count": 7,
   "id": "b7d751e9-2a00-4569-a2a3-65fa905cae36",
   "metadata": {
    "execution": {
     "iopub.execute_input": "2025-03-27T04:07:20.599072Z",
     "iopub.status.busy": "2025-03-27T04:07:20.599072Z",
     "iopub.status.idle": "2025-03-27T04:07:20.608844Z",
     "shell.execute_reply": "2025-03-27T04:07:20.608844Z"
    }
   },
   "outputs": [
    {
     "name": "stdout",
     "output_type": "stream",
     "text": [
      "EnrollType  CCAP  Concurrent  NCD\n",
      "HighSchool                       \n",
      "A             21           7   15\n",
      "B             22           2   15\n",
      "C             20           6   31\n",
      "D             27          13   34\n",
      "E             26           4   15\n",
      "F             35           1   26\n",
      "G             48           2   25\n",
      "H            155           2   37\n",
      "I             61          12   16\n",
      "J             54           0   52\n",
      "K            121           3   93\n",
      "L             27           1    6\n",
      "M             28           1   12\n",
      "N             28           3   31\n"
     ]
    }
   ],
   "source": [
    "# Create and display a two-way frequency table (crosstab)  \n",
    "# showing the count of 'EnrollType' occurrences for each 'HighSchool'.  \n",
    "print(pd.crosstab(df_ecc_2324['HighSchool'], df_ecc_2324['EnrollType']))"
   ]
  },
  {
   "cell_type": "markdown",
   "id": "49eb8101-57af-4875-9167-451bdb6e6ab8",
   "metadata": {},
   "source": [
    " ### Visually Examine Overall Missing Data "
   ]
  },
  {
   "cell_type": "code",
   "execution_count": 8,
   "id": "9f2783f8-6a73-433e-868f-69faa113c4bd",
   "metadata": {
    "execution": {
     "iopub.execute_input": "2025-03-27T04:07:20.608844Z",
     "iopub.status.busy": "2025-03-27T04:07:20.608844Z",
     "iopub.status.idle": "2025-03-27T04:07:20.614388Z",
     "shell.execute_reply": "2025-03-27T04:07:20.614388Z"
    }
   },
   "outputs": [],
   "source": [
    "# change i_missing value to 1 to visually check on missing data in other variavbles\n",
    "i_missing=0\n",
    "\n",
    "if i_missing==1:\n",
    "    plt.figure(figsize=(10,6))\n",
    "    sns.displot(\n",
    "        data=df_ecc_2324.isna().melt(value_name=\"missing\"),\n",
    "        y=\"variable\",\n",
    "        hue=\"missing\",\n",
    "        multiple=\"fill\",\n",
    "        aspect=1.25\n",
    "    )"
   ]
  },
  {
   "cell_type": "markdown",
   "id": "24992363-0f3b-45fe-8529-d57c59483e1c",
   "metadata": {},
   "source": [
    "# 3. Data Aggregation"
   ]
  },
  {
   "cell_type": "markdown",
   "id": "a336c12a-4acf-4d06-915e-1335f4598ceb",
   "metadata": {},
   "source": [
    "## 3.1. Aggregate Students by 'HighSchool', 'AcYr', 'EnrollType'"
   ]
  },
  {
   "cell_type": "code",
   "execution_count": 9,
   "id": "04eeaa43-8ea5-4df1-99ff-50ff5a1c9ff1",
   "metadata": {
    "execution": {
     "iopub.execute_input": "2025-03-27T04:07:20.614388Z",
     "iopub.status.busy": "2025-03-27T04:07:20.614388Z",
     "iopub.status.idle": "2025-03-27T04:07:20.631087Z",
     "shell.execute_reply": "2025-03-27T04:07:20.631087Z"
    }
   },
   "outputs": [
    {
     "name": "stdout",
     "output_type": "stream",
     "text": [
      "  School_ABCD     AcYr  ABCD_CCAP_Total  ABCD_Concurrent_Total  \\\n",
      "0           A  2021-22             12.0                    1.0   \n",
      "1           A  2022-23              0.0                    0.0   \n",
      "2           A  2023-24              9.0                    6.0   \n",
      "3           B  2021-22             11.0                    0.0   \n",
      "4           B  2022-23              0.0                    0.0   \n",
      "\n",
      "   ABCD_NCD_Total  ABCD_SA_Total  \n",
      "0             5.0             18  \n",
      "1             4.0              4  \n",
      "2             6.0             21  \n",
      "3             7.0             18  \n",
      "4             5.0              5  \n"
     ]
    }
   ],
   "source": [
    "# Step 1: Filter out rows with missing values in the 'HighSchool' column\n",
    "# Only include rows where 'HighSchool' is not NaN\n",
    "filtered_data = df_ecc_2324.dropna(subset=['HighSchool'])\n",
    "\n",
    "# Step 2: Aggregate students by 'HighSchool', 'AcYr', and 'EnrollType' to calculate unique student headcounts\n",
    "# The unique count of 'StudentID' represents the number of students for each combination\n",
    "aggregated_data = (\n",
    "    filtered_data.groupby(['HighSchool', 'AcYr', 'EnrollType'])\n",
    "    .agg({'StudentID': 'nunique'})\n",
    "    .reset_index()\n",
    ")\n",
    "\n",
    "# Rename the count column to 'HeadCount' for clarity\n",
    "aggregated_data = aggregated_data.rename(columns={'StudentID': 'HeadCount'})\n",
    "\n",
    "# Step 3: Pivot the aggregated data to wide format\n",
    "# Create a table where each 'EnrollType' becomes a column\n",
    "wide_table_1 = aggregated_data.pivot_table(\n",
    "    index=['HighSchool', 'AcYr'],  # Group by 'HighSchool' and 'AcYr'\n",
    "    columns=['EnrollType'],        # Use 'EnrollType' as column headers\n",
    "    values='HeadCount',            # Use 'HeadCount' as cell values\n",
    "    fill_value=0                   # Fill missing values with 0\n",
    ")\n",
    "\n",
    "# Step 4: Aggregate students by 'HighSchool' and 'AcYr' to calculate total unique students across all EnrollTypes\n",
    "total_headcount = (\n",
    "    filtered_data.groupby(['HighSchool', 'AcYr'])\n",
    "    .agg({'StudentID': 'nunique'})\n",
    "    .rename(columns={'StudentID': 'SA'})  # Rename the count column to 'SA'\n",
    ")\n",
    "\n",
    "# Step 5: Combine the pivoted data and total headcount data horizontally\n",
    "# This results in a table with both 'EnrollType' headcounts and total 'SA' counts\n",
    "wide_table_1 = pd.concat([wide_table_1, total_headcount], axis=1)\n",
    "\n",
    "\n",
    "# Step 6: Replace \"ABCD\" with your college Abbreviation (e.g., \"SDCCD\"). \n",
    "# Add \"ABCD_' as a prefix and '_Total' as a suffix to all column names to standardize the naming format.\n",
    "# For example: \"CCAP\" becomes \"ABCD_CCAP_Total\" (e.g.,\"SDCCD_CCAP_Total\").\n",
    "\n",
    "wide_table_1.columns = [\n",
    "    'ABCD_' + ''.join(col).strip() + '_Total' for col in wide_table_1.columns.values\n",
    "]\n",
    "\n",
    "# Step 7: Reset the index to make 'HighSchool' and 'AcYr' regular columns\n",
    "wide_table_1.reset_index(inplace=True)\n",
    "\n",
    "# Step 8: Rename the 'HighSchool' column to 'School_ABCD'\n",
    "# This aligns with naming conventions for later joins with other tables\n",
    "wide_table_1 = wide_table_1.rename(columns={'HighSchool': 'School_ABCD'})\n",
    "\n",
    "# Step 9: (Optional) \n",
    "#Display the first few rows and the shape of the final wide-format table for verification.\n",
    "# Uncomment the lines below to inspect the output.\n",
    "print(wide_table_1.head())\n",
    "# print(wide_table_1.shape)\n"
   ]
  },
  {
   "cell_type": "markdown",
   "id": "0e9d1c7f-0672-4150-bff9-68fe4b1c069b",
   "metadata": {},
   "source": [
    "## 3.2. Aggregate students by 'HighSchool', 'AcYr', 'EnrollType', and 'Ethnicity'"
   ]
  },
  {
   "cell_type": "code",
   "execution_count": 10,
   "id": "bdb5ef72-07d7-4dec-b297-052c9b761447",
   "metadata": {
    "execution": {
     "iopub.execute_input": "2025-03-27T04:07:20.631087Z",
     "iopub.status.busy": "2025-03-27T04:07:20.631087Z",
     "iopub.status.idle": "2025-03-27T04:07:20.651797Z",
     "shell.execute_reply": "2025-03-27T04:07:20.651797Z"
    }
   },
   "outputs": [
    {
     "name": "stdout",
     "output_type": "stream",
     "text": [
      "  School_ABCD     AcYr  ABCD_CCAP_African American  ABCD_CCAP_Asian  \\\n",
      "0           A  2021-22                         0.0              1.0   \n",
      "1           A  2022-23                         0.0              0.0   \n",
      "2           A  2023-24                         0.0              2.0   \n",
      "3           B  2021-22                         0.0              2.0   \n",
      "4           B  2022-23                         0.0              0.0   \n",
      "\n",
      "   ABCD_CCAP_Filipino  ABCD_CCAP_Latinx  ABCD_CCAP_Multi-Ethnicity  \\\n",
      "0                 0.0               3.0                        0.0   \n",
      "1                 0.0               0.0                        0.0   \n",
      "2                 0.0               4.0                        0.0   \n",
      "3                 1.0               1.0                        3.0   \n",
      "4                 0.0               0.0                        0.0   \n",
      "\n",
      "   ABCD_CCAP_Native American  ABCD_CCAP_Pacific Islander  \\\n",
      "0                        0.0                         0.0   \n",
      "1                        0.0                         0.0   \n",
      "2                        0.0                         0.0   \n",
      "3                        0.0                         0.0   \n",
      "4                        0.0                         0.0   \n",
      "\n",
      "   ABCD_CCAP_Unreported  ...  ABCD_NCD_White  ABCD_SA_African American  \\\n",
      "0                   0.0  ...             1.0                       0.0   \n",
      "1                   0.0  ...             3.0                       0.0   \n",
      "2                   1.0  ...             4.0                       0.0   \n",
      "3                   0.0  ...             5.0                       0.0   \n",
      "4                   0.0  ...             3.0                       0.0   \n",
      "\n",
      "   ABCD_SA_Asian  ABCD_SA_Filipino  ABCD_SA_Latinx  ABCD_SA_Multi-Ethnicity  \\\n",
      "0            2.0               0.0             6.0                      0.0   \n",
      "1            0.0               0.0             0.0                      0.0   \n",
      "2            3.0               0.0             7.0                      0.0   \n",
      "3            3.0               2.0             1.0                      3.0   \n",
      "4            1.0               0.0             0.0                      1.0   \n",
      "\n",
      "   ABCD_SA_Native American  ABCD_SA_Pacific Islander  ABCD_SA_Unreported  \\\n",
      "0                      0.0                       0.0                 0.0   \n",
      "1                      0.0                       0.0                 1.0   \n",
      "2                      0.0                       0.0                 1.0   \n",
      "3                      0.0                       0.0                 0.0   \n",
      "4                      0.0                       0.0                 0.0   \n",
      "\n",
      "   ABCD_SA_White  \n",
      "0           10.0  \n",
      "1            3.0  \n",
      "2           10.0  \n",
      "3            9.0  \n",
      "4            3.0  \n",
      "\n",
      "[5 rows x 34 columns]\n"
     ]
    }
   ],
   "source": [
    "# Step 1: Aggregate students by 'HighSchool', 'AcYr', 'EnrollType', and 'Ethnicity' to calculate unique headcounts\n",
    "# The unique count of 'StudentID' represents the number of students for each combination\n",
    "aggregated_data = (\n",
    "    filtered_data.groupby(['HighSchool', 'AcYr', 'EnrollType', 'Ethnicity'])\n",
    "    .agg({'StudentID': 'nunique'})\n",
    "    .reset_index()\n",
    ")\n",
    "\n",
    "# Rename the count column to 'HeadCount'\n",
    "aggregated_data = aggregated_data.rename(columns={'StudentID': 'HeadCount'})\n",
    "\n",
    "# Step 2: Pivot the aggregated data to wide format\n",
    "# Create a table where the combination of 'EnrollType' and 'Ethnicity' becomes column headers\n",
    "wide_table_2 = aggregated_data.pivot_table(\n",
    "    index=['HighSchool', 'AcYr'],  # Group by 'HighSchool' and 'AcYr'\n",
    "    columns=['EnrollType', 'Ethnicity'],  # Use combined 'EnrollType' and 'Ethnicity' as columns\n",
    "    values='HeadCount',  # Use 'HeadCount' as cell values\n",
    "    fill_value=0  # Fill missing values with 0\n",
    ")\n",
    "\n",
    "# Step 3: Format column names by combining 'EnrollType' and 'Ethnicity' with an 'ABCD_' prefix\n",
    "wide_table_2.columns = ['ABCD_' + '_'.join(col).strip() for col in wide_table_2.columns.values]\n",
    "\n",
    "# Step 4: Aggregate students by 'HighSchool', 'AcYr', and 'Ethnicity' to calculate headcounts across all 'EnrollType'\n",
    "# This will give the total unique headcounts by ethnicity\n",
    "temp = (\n",
    "    filtered_data.groupby(['HighSchool', 'AcYr', 'Ethnicity'])\n",
    "    .agg({'StudentID': 'nunique'})\n",
    "    .rename(columns={'StudentID': 'HeadCount'})  # Rename the count column\n",
    ")\n",
    "\n",
    "# Step 5: Pivot the aggregated data to wide format with 'Ethnicity' as columns\n",
    "temp = temp.pivot_table(\n",
    "    index=['HighSchool', 'AcYr'],  # Group by 'HighSchool' and 'AcYr'\n",
    "    columns='Ethnicity',  # Use 'Ethnicity' as columns\n",
    "    values='HeadCount',  # Use 'HeadCount' as cell values\n",
    "    fill_value=0  # Fill missing values with 0\n",
    ")\n",
    "\n",
    "# Step 6: Add 'ABCD_SA_' prefix to column names for clarity\n",
    "temp.columns = ['ABCD_SA_' + col.strip() for col in temp.columns.values]\n",
    "\n",
    "# Step 7: Combine the two pivoted tables horizontally\n",
    "# This results in a table with both 'EnrollType-Ethnicity' and total 'SA-Ethnicity' headcounts\n",
    "wide_table_2 = pd.concat([wide_table_2, temp], axis=1)\n",
    "\n",
    "# Step 8: Reset the index to make 'HighSchool' and 'AcYr' regular columns\n",
    "wide_table_2.reset_index(inplace=True)\n",
    "\n",
    "# Step 9: Rename the 'HighSchool' column to 'School_ABCD' for consistency and future joins\n",
    "wide_table_2 = wide_table_2.rename(columns={'HighSchool': 'School_ABCD'})\n",
    "\n",
    "# Step 10: (Optional) \n",
    "#Display the first few rows and the shape of the final wide-format table for verification.\n",
    "# Uncomment the lines below to inspect the output.\n",
    "print(wide_table_2.head())\n",
    "# print(wide_table_2.shape)\n"
   ]
  },
  {
   "cell_type": "markdown",
   "id": "03659adb-5364-41dd-8f89-5109990701f1",
   "metadata": {},
   "source": [
    "## 3.3. Aggregate Students by 'HighSchool', 'AcYr', 'AdmitType'"
   ]
  },
  {
   "cell_type": "code",
   "execution_count": 11,
   "id": "8a5c89a7-fb20-491e-ba24-c1c0fd4d58ab",
   "metadata": {
    "execution": {
     "iopub.execute_input": "2025-03-27T04:07:20.651797Z",
     "iopub.status.busy": "2025-03-27T04:07:20.651797Z",
     "iopub.status.idle": "2025-03-27T04:07:20.664438Z",
     "shell.execute_reply": "2025-03-27T04:07:20.664438Z"
    }
   },
   "outputs": [
    {
     "name": "stdout",
     "output_type": "stream",
     "text": [
      "  School_ABCD     AcYr  ABCD_Conc_Total  ABCD_Dual_Total\n",
      "0           A  2021-22              2.0             16.0\n",
      "1           A  2022-23              0.0              4.0\n",
      "2           A  2023-24              6.0             15.0\n",
      "3           B  2021-22              0.0             18.0\n",
      "4           B  2022-23              0.0              5.0\n"
     ]
    }
   ],
   "source": [
    "# Step 1: Aggregate students by 'HighSchool', 'AcYr', and 'AdmitType'\n",
    "# Count unique 'StudentID' to calculate the number of students for each combination\n",
    "aggregated_data = (\n",
    "    filtered_data.groupby(['HighSchool', 'AcYr', 'AdmitType'])\n",
    "    .agg({'StudentID': 'nunique'})\n",
    "    .reset_index()\n",
    ")\n",
    "\n",
    "# Step 2: Rename the count column to 'HeadCount'\n",
    "aggregated_data = aggregated_data.rename(columns={'StudentID': 'HeadCount'})\n",
    "\n",
    "# Step 3: Pivot the aggregated data to wide format\n",
    "# Use 'AdmitType' as columns and 'HeadCount' as cell values\n",
    "wide_table_3 = aggregated_data.pivot_table(\n",
    "    index=['HighSchool', 'AcYr'],  # Group by 'HighSchool' and 'AcYr'\n",
    "    columns='AdmitType',  # Use 'AdmitType' as columns\n",
    "    values='HeadCount',  # Use 'HeadCount' as cell values\n",
    "    fill_value=0  # Fill missing values with 0\n",
    ")\n",
    "\n",
    "# Step 4: Add 'ABCD_' prefix to column names to clarify 'AdmitType'\n",
    "wide_table_3.columns = ['ABCD_' + col + '_Total' for col in wide_table_3.columns]\n",
    "\n",
    "# Step 5: Reset the index to make 'HighSchool' and 'AcYr' regular columns\n",
    "wide_table_3.reset_index(inplace=True)\n",
    "\n",
    "# Step 6: Rename the 'HighSchool' column to 'School_ABCD' for consistency in joins\n",
    "wide_table_3 = wide_table_3.rename(columns={'HighSchool': 'School_ABCD'})\n",
    "\n",
    "# Step 7: (Optional) \n",
    "#Display the first few rows and the shape of the final wide-format table for verification.\n",
    "# Uncomment the lines below to inspect the output.\n",
    "print(wide_table_3.head())\n",
    "# print(wide_table_3.shape)\n"
   ]
  },
  {
   "cell_type": "markdown",
   "id": "d194b935-cd8b-4303-89a5-a895fd7acb75",
   "metadata": {},
   "source": [
    "## 3.4. Aggragate Students by 'HighSchool', 'AcYr', 'AdmitType', 'Ethnicity'"
   ]
  },
  {
   "cell_type": "code",
   "execution_count": 12,
   "id": "13000783-f7bd-4ae1-89d5-192209173045",
   "metadata": {
    "execution": {
     "iopub.execute_input": "2025-03-27T04:07:20.666187Z",
     "iopub.status.busy": "2025-03-27T04:07:20.666187Z",
     "iopub.status.idle": "2025-03-27T04:07:20.679367Z",
     "shell.execute_reply": "2025-03-27T04:07:20.679367Z"
    }
   },
   "outputs": [
    {
     "name": "stdout",
     "output_type": "stream",
     "text": [
      "  School_ABCD     AcYr  ABCD_Conc_African American  ABCD_Conc_Asian  \\\n",
      "0           A  2021-22                         0.0              0.0   \n",
      "1           A  2022-23                         0.0              0.0   \n",
      "2           A  2023-24                         0.0              1.0   \n",
      "3           B  2021-22                         0.0              0.0   \n",
      "4           B  2022-23                         0.0              0.0   \n",
      "\n",
      "   ABCD_Conc_Filipino  ABCD_Conc_Latinx  ABCD_Conc_Multi-Ethnicity  \\\n",
      "0                 0.0               0.0                        0.0   \n",
      "1                 0.0               0.0                        0.0   \n",
      "2                 0.0               1.0                        0.0   \n",
      "3                 0.0               0.0                        0.0   \n",
      "4                 0.0               0.0                        0.0   \n",
      "\n",
      "   ABCD_Conc_Unreported  ABCD_Conc_White  ABCD_Dual_African American  \\\n",
      "0                   0.0              2.0                         0.0   \n",
      "1                   0.0              0.0                         0.0   \n",
      "2                   0.0              4.0                         0.0   \n",
      "3                   0.0              0.0                         0.0   \n",
      "4                   0.0              0.0                         0.0   \n",
      "\n",
      "   ABCD_Dual_Asian  ABCD_Dual_Filipino  ABCD_Dual_Latinx  \\\n",
      "0              2.0                 0.0               6.0   \n",
      "1              0.0                 0.0               0.0   \n",
      "2              2.0                 0.0               6.0   \n",
      "3              3.0                 2.0               1.0   \n",
      "4              1.0                 0.0               0.0   \n",
      "\n",
      "   ABCD_Dual_Multi-Ethnicity  ABCD_Dual_Native American  \\\n",
      "0                        0.0                        0.0   \n",
      "1                        0.0                        0.0   \n",
      "2                        0.0                        0.0   \n",
      "3                        3.0                        0.0   \n",
      "4                        1.0                        0.0   \n",
      "\n",
      "   ABCD_Dual_Pacific Islander  ABCD_Dual_Unreported  ABCD_Dual_White  \n",
      "0                         0.0                   0.0              8.0  \n",
      "1                         0.0                   1.0              3.0  \n",
      "2                         0.0                   1.0              6.0  \n",
      "3                         0.0                   0.0              9.0  \n",
      "4                         0.0                   0.0              3.0  \n"
     ]
    }
   ],
   "source": [
    "# Step 1: Aggregate students by 'HighSchool', 'AcYr', 'AdmitType', and 'Ethnicity'\n",
    "# Count unique 'StudentID' to calculate headcounts for each combination\n",
    "aggregated_data = (\n",
    "    filtered_data.groupby(['HighSchool', 'AcYr', 'AdmitType', 'Ethnicity'])\n",
    "    .agg({'StudentID': 'nunique'})\n",
    "    .reset_index()\n",
    ")\n",
    "\n",
    "# Step 2: Rename the count column to 'HeadCount'\n",
    "aggregated_data = aggregated_data.rename(columns={'StudentID': 'HeadCount'})\n",
    "\n",
    "# Step 3: Pivot the aggregated data to wide format\n",
    "# Use combined values of 'AdmitType' and 'Ethnicity' as column headers\n",
    "wide_table_4 = aggregated_data.pivot_table(\n",
    "    index=['HighSchool', 'AcYr'],  # Group by 'HighSchool' and 'AcYr'\n",
    "    columns=['AdmitType', 'Ethnicity'],  # Use 'AdmitType' and 'Ethnicity' as columns\n",
    "    values='HeadCount',  # Use 'HeadCount' as cell values\n",
    "    fill_value=0  # Fill missing values with 0\n",
    ")\n",
    "\n",
    "# Step 4: Rename the columns\n",
    "# Combine 'AdmitType' and 'Ethnicity' into a single string and add 'ABCD_' prefix for clarity\n",
    "wide_table_4.columns = ['ABCD_' + '_'.join(col).strip() for col in wide_table_4.columns.values]\n",
    "\n",
    "# Step 5: Reset the index to make 'HighSchool' and 'AcYr' regular columns\n",
    "wide_table_4.reset_index(inplace=True)\n",
    "\n",
    "# Step 6: Rename the 'HighSchool' column to 'School_ABCD' for consistency in naming\n",
    "wide_table_4 = wide_table_4.rename(columns={'HighSchool': 'School_ABCD'})\n",
    "\n",
    "# Step 7: (Optional) \n",
    "#Display the first few rows and the shape of the final wide-format table for verification.\n",
    "# Uncomment the lines below to inspect the output.\n",
    "print(wide_table_4.head())\n",
    "# print(wide_table_4.shape)"
   ]
  },
  {
   "cell_type": "markdown",
   "id": "4d68b279-3276-4317-8f00-ad2f886d1d5d",
   "metadata": {},
   "source": [
    "# 4. Combine all the aggregation tables"
   ]
  },
  {
   "cell_type": "code",
   "execution_count": 13,
   "id": "7c08f314-9452-4ba4-a8b9-44390bd5b0cf",
   "metadata": {
    "execution": {
     "iopub.execute_input": "2025-03-27T04:07:20.681389Z",
     "iopub.status.busy": "2025-03-27T04:07:20.681389Z",
     "iopub.status.idle": "2025-03-27T04:07:20.690172Z",
     "shell.execute_reply": "2025-03-27T04:07:20.690172Z"
    }
   },
   "outputs": [
    {
     "data": {
      "text/plain": [
       "Index(['School_ABCD', 'AcYr', 'ABCD_CCAP_Total', 'ABCD_Concurrent_Total',\n",
       "       'ABCD_NCD_Total', 'ABCD_SA_Total', 'ABCD_CCAP_African American',\n",
       "       'ABCD_CCAP_Asian', 'ABCD_CCAP_Filipino', 'ABCD_CCAP_Latinx',\n",
       "       'ABCD_CCAP_Multi-Ethnicity', 'ABCD_CCAP_Native American',\n",
       "       'ABCD_CCAP_Pacific Islander', 'ABCD_CCAP_Unreported', 'ABCD_CCAP_White',\n",
       "       'ABCD_Concurrent_African American', 'ABCD_Concurrent_Asian',\n",
       "       'ABCD_Concurrent_Filipino', 'ABCD_Concurrent_Latinx',\n",
       "       'ABCD_Concurrent_Multi-Ethnicity', 'ABCD_Concurrent_Unreported',\n",
       "       'ABCD_Concurrent_White', 'ABCD_NCD_African American', 'ABCD_NCD_Asian',\n",
       "       'ABCD_NCD_Filipino', 'ABCD_NCD_Latinx', 'ABCD_NCD_Multi-Ethnicity',\n",
       "       'ABCD_NCD_Unreported', 'ABCD_NCD_White', 'ABCD_SA_African American',\n",
       "       'ABCD_SA_Asian', 'ABCD_SA_Filipino', 'ABCD_SA_Latinx',\n",
       "       'ABCD_SA_Multi-Ethnicity', 'ABCD_SA_Native American',\n",
       "       'ABCD_SA_Pacific Islander', 'ABCD_SA_Unreported', 'ABCD_SA_White',\n",
       "       'ABCD_Conc_Total', 'ABCD_Dual_Total', 'ABCD_Conc_African American',\n",
       "       'ABCD_Conc_Asian', 'ABCD_Conc_Filipino', 'ABCD_Conc_Latinx',\n",
       "       'ABCD_Conc_Multi-Ethnicity', 'ABCD_Conc_Unreported', 'ABCD_Conc_White',\n",
       "       'ABCD_Dual_African American', 'ABCD_Dual_Asian', 'ABCD_Dual_Filipino',\n",
       "       'ABCD_Dual_Latinx', 'ABCD_Dual_Multi-Ethnicity',\n",
       "       'ABCD_Dual_Native American', 'ABCD_Dual_Pacific Islander',\n",
       "       'ABCD_Dual_Unreported', 'ABCD_Dual_White'],\n",
       "      dtype='object')"
      ]
     },
     "execution_count": 13,
     "metadata": {},
     "output_type": "execute_result"
    }
   ],
   "source": [
    "# Concatenate tables horizontally based on common columns\n",
    "combined_table = pd.concat([wide_table_1.set_index([\"School_ABCD\", \"AcYr\"]),\n",
    "                            wide_table_2.set_index([\"School_ABCD\", \"AcYr\"]),\n",
    "                            wide_table_3.set_index([\"School_ABCD\", \"AcYr\"]),\n",
    "                            wide_table_4.set_index([\"School_ABCD\", \"AcYr\"])],\n",
    "                            axis=1)\n",
    "\n",
    "# Reset index to convert 'School_ABCD' and 'AcYr' back to columns\n",
    "combined_table.reset_index(inplace=True)\n",
    "combined_table.columns"
   ]
  },
  {
   "cell_type": "code",
   "execution_count": 14,
   "id": "b3a1f907-adc6-42a1-bfbb-ce74a503ac1a",
   "metadata": {
    "execution": {
     "iopub.execute_input": "2025-03-27T04:07:20.691921Z",
     "iopub.status.busy": "2025-03-27T04:07:20.691921Z",
     "iopub.status.idle": "2025-03-27T04:07:20.699541Z",
     "shell.execute_reply": "2025-03-27T04:07:20.699541Z"
    }
   },
   "outputs": [],
   "source": [
    "# Concatenate tables horizontally based on common columns\n",
    "combined_table = pd.concat([wide_table_1.set_index([\"School_ABCD\", \"AcYr\"]),\n",
    "                            wide_table_2.set_index([\"School_ABCD\", \"AcYr\"]),\n",
    "                            wide_table_3.set_index([\"School_ABCD\", \"AcYr\"]),\n",
    "                            wide_table_4.set_index([\"School_ABCD\", \"AcYr\"])],\n",
    "                            axis=1)\n",
    "\n",
    "# Reset index to convert 'School_ABCD' and 'AcYr' back to columns\n",
    "combined_table.reset_index(inplace=True)\n",
    "combined_table.shape\n",
    "\n",
    "#drop duplicated columns, i.e,.'ABCD_Concurrent_African America' and 'ABCD_Conc_African America ' are duplicates, and so on \n",
    "# List of potential columns to drop\n",
    "columns_to_drop = [\n",
    "    'ABCD_Conc_Total', 'ABCD_Concurrent_African American',\n",
    "    'ABCD_Concurrent_Asian', 'ABCD_Concurrent_Filipino',\n",
    "    'ABCD_Concurrent_Latinx', 'ABCD_Concurrent_Multi-Ethnicity',\n",
    "    'ABCD_Concurrent_Native American', 'ABCD_Concurrent_Pacific Islander',\n",
    "    'ABCD_Concurrent_Unreported', 'ABCD_Concurrent_White'\n",
    "]\n",
    "\n",
    "# Filter the list to only include columns that exist in combined_table.columns\n",
    "columns_to_drop = [col for col in columns_to_drop if col in combined_table.columns]\n",
    "\n",
    "\n",
    "# Drop the specified columns\n",
    "combined_table.drop(columns=columns_to_drop, inplace=True)\n",
    "# Rename columns as needed\n",
    "combined_table = combined_table.rename(columns={'ABCD_Concurrent_Total': 'ABCD_Conc_Total'})"
   ]
  },
  {
   "cell_type": "markdown",
   "id": "608b6520-fd30-437f-9194-72b254abb5c8",
   "metadata": {},
   "source": [
    "# 5. Output Aggregated Highshool data into An Excel File for Later Import into \"RP_SpecialAdmit_Headcount_Combined.ipynb\""
   ]
  },
  {
   "cell_type": "code",
   "execution_count": 15,
   "id": "ac780e31-130c-400f-949d-7e5539bcde74",
   "metadata": {
    "execution": {
     "iopub.execute_input": "2025-03-27T04:07:20.699541Z",
     "iopub.status.busy": "2025-03-27T04:07:20.699541Z",
     "iopub.status.idle": "2025-03-27T04:07:20.894971Z",
     "shell.execute_reply": "2025-03-27T04:07:20.894971Z"
    }
   },
   "outputs": [
    {
     "name": "stdout",
     "output_type": "stream",
     "text": [
      "Combined data has been saved to: C:\\Project Files\\CDE 2024 Python\\RP_Conference_Share\\Special Admit Heaadcount_by_HioghSchool.xlsx\n"
     ]
    }
   ],
   "source": [
    "# Define the file path where you want your  aggregated Highschool data to be stored\n",
    "file_path = r'C:\\Project Files\\CDE 2024 Python\\RP_Conference_Share\\Special Admit Heaadcount_by_HioghSchool.xlsx'\n",
    "\n",
    "# Save the aggregated data to an Excel file\n",
    "combined_table.to_excel(file_path, index=False)\n",
    "\n",
    "print(f\"Combined data has been saved to: {file_path}\")"
   ]
  },
  {
   "cell_type": "code",
   "execution_count": null,
   "id": "7a43dd7f-f4d2-419b-847b-54eab62070a7",
   "metadata": {},
   "outputs": [],
   "source": []
  }
 ],
 "metadata": {
  "kernelspec": {
   "display_name": "Python 3 (ipykernel)",
   "language": "python",
   "name": "python3"
  },
  "language_info": {
   "codemirror_mode": {
    "name": "ipython",
    "version": 3
   },
   "file_extension": ".py",
   "mimetype": "text/x-python",
   "name": "python",
   "nbconvert_exporter": "python",
   "pygments_lexer": "ipython3",
   "version": "3.11.7"
  }
 },
 "nbformat": 4,
 "nbformat_minor": 5
}
