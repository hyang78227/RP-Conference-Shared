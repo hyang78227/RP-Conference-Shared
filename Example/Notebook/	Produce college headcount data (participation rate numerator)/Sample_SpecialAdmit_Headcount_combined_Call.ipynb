{
 "cells": [
  {
   "cell_type": "code",
   "execution_count": 1,
   "id": "f6650c12-4477-4e84-9258-48fd5994a41e",
   "metadata": {},
   "outputs": [
    {
     "name": "stdout",
     "output_type": "stream",
     "text": [
      "Running C:\\Project Files\\CDE 2024 Python\\RP_Conference_Share\\Sample_SpecialAdmit_Headcount_by_HighSchool.ipynb...\n"
     ]
    },
    {
     "name": "stderr",
     "output_type": "stream",
     "text": [
      "C:\\Users\\hyang\\AppData\\Local\\anaconda3\\Lib\\site-packages\\zmq\\_future.py:693: RuntimeWarning: Proactor event loop does not implement add_reader family of methods required for zmq. Registering an additional selector thread for add_reader support via tornado. Use `asyncio.set_event_loop_policy(WindowsSelectorEventLoopPolicy())` to avoid this warning.\n",
      "  self._get_loop()\n"
     ]
    },
    {
     "name": "stdout",
     "output_type": "stream",
     "text": [
      "Finished running C:\\Project Files\\CDE 2024 Python\\RP_Conference_Share\\Sample_SpecialAdmit_Headcount_by_HighSchool.ipynb\n",
      "Running C:\\Project Files\\CDE 2024 Python\\RP_Conference_Share\\Sample_SpecialAdmit_Headcount_combined.ipynb...\n",
      "Finished running C:\\Project Files\\CDE 2024 Python\\RP_Conference_Share\\Sample_SpecialAdmit_Headcount_combined.ipynb\n"
     ]
    }
   ],
   "source": [
    "import nbformat\n",
    "from nbconvert.preprocessors import ExecutePreprocessor\n",
    "import os\n",
    "\n",
    "def run_notebook(notebook_path):\n",
    "    if not os.path.exists(notebook_path):\n",
    "        print(f\"File not found: {notebook_path}\")\n",
    "        return\n",
    "    \n",
    "    with open(notebook_path) as f:\n",
    "        nb = nbformat.read(f, as_version=4)\n",
    "        \n",
    "    ep = ExecutePreprocessor(timeout=600, kernel_name='python3')\n",
    "    ep.preprocess(nb, {'metadata': {'path': os.path.dirname(notebook_path)}})\n",
    "    \n",
    "    with open(notebook_path, 'w', encoding='utf-8') as f:\n",
    "        nbformat.write(nb, f)\n",
    "\n",
    "folder_path =r'C:\\Project Files\\CDE 2024 Python\\RP_Conference_Share'\n",
    "\n",
    "notebook_files = [\n",
    "    os.path.join(folder_path, \"Sample_SpecialAdmit_Headcount_by_HighSchool.ipynb\"),\n",
    "    os.path.join(folder_path, \"Sample_SpecialAdmit_Headcount_combined.ipynb\")\n",
    "]\n",
    "\n",
    "\n",
    "\n",
    "for notebook_file in notebook_files:\n",
    "    print(f\"Running {notebook_file}...\")\n",
    "    run_notebook(notebook_file)\n",
    "    print(f\"Finished running {notebook_file}\")\n"
   ]
  },
  {
   "cell_type": "code",
   "execution_count": null,
   "id": "6996311c-9fa6-4cca-8668-9858049fdccb",
   "metadata": {},
   "outputs": [],
   "source": []
  },
  {
   "cell_type": "code",
   "execution_count": null,
   "id": "1d473d91-3305-4b65-8e6b-827b1bd236d7",
   "metadata": {},
   "outputs": [],
   "source": []
  }
 ],
 "metadata": {
  "kernelspec": {
   "display_name": "Python 3 (ipykernel)",
   "language": "python",
   "name": "python3"
  },
  "language_info": {
   "codemirror_mode": {
    "name": "ipython",
    "version": 3
   },
   "file_extension": ".py",
   "mimetype": "text/x-python",
   "name": "python",
   "nbconvert_exporter": "python",
   "pygments_lexer": "ipython3",
   "version": "3.11.7"
  }
 },
 "nbformat": 4,
 "nbformat_minor": 5
}
