{
  "cells": [
    {
      "cell_type": "markdown",
      "id": "68527d81-6fc1-4347-884a-6a123b13d4bb",
      "metadata": {},
      "source": [
        "# 1. Import Python Packages"
      ]
    },
    {
      "cell_type": "code",
      "execution_count": 1,
      "id": "3b03c7f9-3dd9-4fb1-b32a-e5796a0b50d1",
      "metadata": {},
      "outputs": [],
      "source": [
        "import pandas as pd\n",
        "import os\n",
        "import numpy as np\n",
        "import matplotlib.pyplot as plt\n",
        "import seaborn as sns"
      ]
    },
    {
      "cell_type": "markdown",
      "id": "98bd450d-3970-4fff-b4a8-574c144b499f",
      "metadata": {},
      "source": [
        "# 2. Import \"Special Admit Foundation\" Data"
      ]
    },
    {
      "cell_type": "code",
      "execution_count": 1,
      "id": "9ee08755-712c-44cb-a4b9-066cb94f7844",
      "metadata": {},
      "outputs": [],
      "source": [
        "# Define the file path to import Special Admit Foundation Data\n",
        "# Replace \"sampledrive\\\\samplefolder\\\\samplefile\" with correct path (\"drive\\\\folder\\\\file\")\n",
        "file_path = r'Example/SDCCD Special Admit Foundation_sample for RP excel.xlsx'\n",
        "\n",
        "# Check to see if the file path exists\n",
        "print(os.path.exists(file_path))  # Return \"True\" or \"False\"\n",
        "\n",
        "# Read the file into a DataFrame named \"df_ecc_2324\"\n",
        "# Assuming the file is delimited by a specific character, for example, a comma.\n",
        "# Adjust the delimiter as needed.\n",
        "df_ecc_2324 = pd.read_csv(file_path, delimiter=',', low_memory=False)  # Change delimiter if necessary\n",
        "\n",
        "# (Optional) Display the first few rows and the shape of the DataFrame to verify\n",
        "print(df_ecc_2324.head())"
      ]
    }
  ],
  "metadata": {
    "kernelspec": {
      "display_name": "Python 3 (ipykernel)",
      "language": "python",
      "name": "python3"
    },
    "language_info": {
      "codemirror_mode": {
        "name": "ipython",
        "version": 3
      },
      "file_extension": ".py",
      "mimetype": "text/x-python",
      "name": "python",
      "nbconvert_exporter": "python",
      "pygments_lexer": "ipython3",
      "version": "3.11.7"
    }
  },
  "nbformat": 4,
  "nbformat_minor": 5
}

