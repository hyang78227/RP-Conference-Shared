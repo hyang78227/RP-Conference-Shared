{
 "cells": [
  {
   "cell_type": "code",
   "execution_count": 75,
   "id": "26d87dc5-04de-48a0-892b-1c6bb17991e4",
   "metadata": {},
   "outputs": [],
   "source": [
    "import pandas as pd\n",
    "import os"
   ]
  },
  {
   "cell_type": "markdown",
   "id": "7657dfe9-ce3e-4426-bd9b-d18b3aec307f",
   "metadata": {},
   "source": [
    "# 1. Import CDE Raw Data "
   ]
  },
  {
   "cell_type": "markdown",
   "id": "f5497dc7-4a7d-49dd-9807-47483b8ab7aa",
   "metadata": {},
   "source": [
    "## 1.1 Reading Raw Data"
   ]
  },
  {
   "cell_type": "code",
   "execution_count": 85,
   "id": "70ef7460-9721-4423-85e6-fc4b00d2c935",
   "metadata": {},
   "outputs": [],
   "source": [
    "# Define the file path where you have downloaded and saved your CDE data\n",
    "# Replace \"SampleDrive/SampleFolder/SampleFile\" with the correct path\n",
    "file_path = 'SampleDrive/SampleFolder/SampleFile'\n",
    "\n",
    "#check to see if the file path exists\n",
    "print(os.path.exists(file_path))\n",
    "\n",
    "# Read the file into a DataFrame\n",
    "# Assuming the file is delimited by a specific character, for example, a comma. \n",
    "# Adjust the delimiter as needed.\n",
    "df_cde = pd.read_csv(file_path, delimiter='\\t')  # Change delimiter if necessary\n",
    "\n",
    "# Display the first few rows of the DataFrame to verify\n",
    "print(df_cde.head())"
   ]
  },
  {
   "cell_type": "markdown",
   "id": "c959bded-a212-4614-89ee-0f0795ff5518",
   "metadata": {},
   "source": [
    "## 1.2 Filter the dataset with interetsed schools, ReportingCategory, and columns "
   ]
  },
  {
   "cell_type": "code",
   "execution_count": 77,
   "id": "ba63144a-7fc2-4d18-a3de-35727b101ed2",
   "metadata": {},
   "outputs": [],
   "source": [
    "# Define the list of school names of interest\n",
    "school_cde_lst = [...] #select the list of Highschools served by college from CDE data\n",
    "\n",
    "# Define the list of reporting categories\n",
    "reporting_categories_to_keep = [\n",
    "    \"GN_F\", \"GN_M\", \"GN_X\", \"RE_A\", \"RE_B\", \"RE_D\", \"RE_F\", \"RE_H\",\n",
    "    \"RE_I\", \"RE_P\", \"RE_T\", \"RE_W\", \"SG_DS\", \"SG_SD\"\n",
    "]\n",
    "\n",
    "# Define the list of columns to keep\n",
    "columns_to_keep = ['AcademicYear', 'SchoolName', 'DistrictName', 'ReportingCategory','GR_09', 'GR_10', 'GR_11', 'GR_12']\n"
   ]
  },
  {
   "cell_type": "code",
   "execution_count": 78,
   "id": "30a3acc3-b2fa-4d21-9562-68773fe4770d",
   "metadata": {},
   "outputs": [],
   "source": [
    "# Filter the DataFrame to include only the specified columns\n",
    "# 'columns_to_keep' should include columns necessary for analysis\n",
    "df_cde_filtered = df_cde.loc[:, columns_to_keep]\n",
    "\n",
    "# Define the grade-level columns for which enrollment totals will be calculated\n",
    "GR_columns = ['GR_09', 'GR_10', 'GR_11', 'GR_12']\n",
    "\n",
    "# Ensure grade-level columns are numeric, converting non-numeric values to NaN\n",
    "# Then, cast the columns to the 'Int64' type (which supports nullable integers)\n",
    "for col in GR_columns:\n",
    "    df_cde_filtered[col] = pd.to_numeric(df_cde_filtered[col], errors='coerce').astype('Int64')\n",
    "\n",
    "# Calculate the total enrollment across all grade levels (GR_09 to GR_12)\n",
    "# This creates a new column 'TOTAL_ENR' that sums the grade-level enrollments row-wise\n",
    "df_cde_filtered['TOTAL_ENR'] = df_cde_filtered[GR_columns].sum(axis=1)\n",
    "\n",
    "# Display the first few rows of the filtered DataFrame to verify changes\n",
    "#df_cde_filtered.head()"
   ]
  },
  {
   "cell_type": "code",
   "execution_count": 79,
   "id": "783c86b7-d8a1-4dd1-85be-c99b01ea8d94",
   "metadata": {},
   "outputs": [],
   "source": [
    "#  Filter the DataFrame by 'ReportingCategory'\n",
    "# Retain rows where 'ReportingCategory' matches one of the predefined values in 'reporting_categories_to_keep'\n",
    "df_cde_filtered_by_ReptCat = df_cde_filtered[df_cde_filtered['ReportingCategory'].isin(reporting_categories_to_keep)]\n",
    "\n",
    "# Further filter the DataFrame by 'SchoolName'\n",
    "# Retain rows where 'SchoolName' matches one of the schools in the predefined 'school_cde_lst'\n",
    "df_cde_filtered_by_ReptCat_school = df_cde_filtered_by_ReptCat[df_cde_filtered_by_ReptCat['SchoolName'].isin(school_cde_lst)]\n",
    "\n",
    "# Assign the filtered DataFrame to a new variable for later reshaping\n",
    "# This variable serves as the final cleaned dataset for further processing\n",
    "df_cde_long = df_cde_filtered_by_ReptCat_school\n",
    "\n",
    "# (Optional) display a preview of the resulting DataFrame\n",
    "# Uncomment the lines below to check the first 15 rows and the shape of the filtered dataset\n",
    "# print(df_cde_long.head(15))\n",
    "# print(\"Shape of the final DataFrame:\", df_cde_long.shape)\n",
    "\n"
   ]
  },
  {
   "cell_type": "markdown",
   "id": "f8672d87-6efe-4a07-95bb-fc56fa69d65d",
   "metadata": {},
   "source": [
    "## 1.3. Pivot the Data Table from Long table to wide Table"
   ]
  },
  {
   "cell_type": "code",
   "execution_count": 80,
   "id": "ae9b772d-9308-4413-8dc4-394607b41209",
   "metadata": {},
   "outputs": [],
   "source": [
    "# Pivot the DataFrame to summarize 'TOTAL_ENR' by 'AcademicYear', 'SchoolName', and 'ReportingCategory'\n",
    "df_cde_wide = df_cde_long.pivot_table(\n",
    "    index=['AcademicYear', 'SchoolName'], \n",
    "    columns='ReportingCategory', \n",
    "    values='TOTAL_ENR',\n",
    "    aggfunc='sum'\n",
    ")\n",
    "\n",
    "# Flatten the MultiIndex columns, if present, to ensure column names are simplified\n",
    "df_cde_wide.columns = [col for col in df_cde_wide.columns]\n",
    "\n",
    "# Reset the index to make 'AcademicYear' and 'SchoolName' regular columns\n",
    "df_cde_wide.reset_index(inplace=True)\n",
    "\n",
    "# Define a dictionary to rename columns for better readability\n",
    "columns_rename_dict = {\n",
    "    'AcademicYear': 'Academic Year',\n",
    "    'SchoolName': 'High School (CDE name)',\n",
    "    'GN_F': 'Gender_F',\n",
    "    'GN_M': 'Gender_M',\n",
    "    'GN_X': 'Gender_Non_Binary',\n",
    "    'RE_A': 'Asian',\n",
    "    'RE_B': 'African American',\n",
    "    'RE_D': 'Not Reported',\n",
    "    'RE_F': 'Filipino',\n",
    "    'RE_H': 'Hispanic or Latino',\n",
    "    'RE_I': 'American Indian',\n",
    "    'RE_P': 'Pacific Islander',\n",
    "    'RE_T': 'Two or More Races',\n",
    "    'RE_W': 'White',\n",
    "    'SG_DS': 'Students_with_Disabilities',\n",
    "    'SG_SD': 'Socioeconomically Disadvantaged'\n",
    "}\n",
    "\n",
    "# Rename columns based on the defined dictionary\n",
    "df_cde_wide.rename(columns=columns_rename_dict, inplace=True)\n",
    "\n",
    "# Display the first few rows to verify the output\n",
    "#print(df_cde_wide.head())\n"
   ]
  },
  {
   "cell_type": "code",
   "execution_count": 82,
   "id": "3b5570b9-f358-4e11-83e3-af261c8bcd4f",
   "metadata": {},
   "outputs": [],
   "source": [
    "# Define DataFrame called \"high_school_mapping_df\" to match High School names from the CDE system with the corresponding ones in the college data system\n",
    "high_school_mapping_df = pd.DataFrame({\n",
    "    \"High School (CDE name)\": [\n",
    "        # List of CDE names of High Schools served by the college SA programs\n",
    "        # These are the names as they appear in the source dataset, similar to \"school_cde_lst\"\n",
    "    ],  \n",
    "    \"HighSchool\": [\n",
    "        # List of names of the same High Schools, but as they are recognized in the college data system\n",
    "        # These will be used for mapping in the merge operation\n",
    "    ]\n",
    "})\n",
    "\n",
    "# Merge df_cde_wide with high_school_mapping_df based on 'High School (CDE name)'\n",
    "# This will map the High School names from the CDE system to the corresponding names in the college data system\n",
    "df_cde_wide = df_cde_wide.merge(high_school_mapping_df, how='left', on='High School (CDE name)')\n",
    "\n",
    "# Display the first few rows to verify the successful addition of the new 'HighSchool' column\n",
    "#print(df_cde_wide.head())\n",
    "#print(df_cde_wide.info())\n"
   ]
  },
  {
   "cell_type": "code",
   "execution_count": null,
   "id": "b4fca3d0-2940-4089-8f02-35498809e773",
   "metadata": {},
   "outputs": [],
   "source": [
    "# Replace NaN values with 0\n",
    "df_cde_wide.fillna(0, inplace=True)\n",
    "\n",
    "# Define the list of ethnicity columns\n",
    "ethnicity_columns = [\n",
    "    'African American', 'American Indian', 'Asian', \n",
    "    'Filipino', 'Hispanic or Latino', 'Pacific Islander', \n",
    "    'White', 'Two or More Races', 'Not Reported'\n",
    "]\n",
    "\n",
    "# Calculate 'Total Enrollment' by summing up the ethnicity columns\n",
    "df_cde_wide['Total Enrollment'] = df_cde_wide[ethnicity_columns].sum(axis=1)\n",
    "\n",
    "# Define the desired column order\n",
    "desired_columns_order = [\n",
    "    'Academic Year', 'Total Enrollment', 'African American', 'American Indian', 'Asian', \n",
    "    'Filipino', 'Hispanic or Latino', 'Pacific Islander', 'White', \n",
    "    'Two or More Races', 'Not Reported', 'High School (CDE name)', \n",
    "    'HighSchool'\n",
    "]\n",
    "\n",
    "# Reorder the columns in df_cde_wide\n",
    "df_cde_wide = df_cde_wide[desired_columns_order]\n",
    "\n",
    "\n",
    "# Order by 'High School (CDE name)' and 'Academic Year'\n",
    "df_cde_wide = df_cde_wide.sort_values(by=['HighSchool', 'Academic Year'])\n",
    "\n",
    "# Display the first few rows to verify the changes\n",
    "#print(df_cde_wide.head())"
   ]
  },
  {
   "cell_type": "markdown",
   "id": "31be1705-2a84-494e-8ad7-73c7015a66e9",
   "metadata": {},
   "source": [
    "# 2. Output CDE data to an Excel File"
   ]
  },
  {
   "cell_type": "code",
   "execution_count": 84,
   "id": "f08e79b9-7144-4e60-a184-9713ab10a763",
   "metadata": {},
   "outputs": [],
   "source": [
    "# Define the file path where you want to save the cleaned-up CDE data\n",
    "# Replace \"SampleDrive/SampleFolder\" with the correct path.\n",
    "#The excel file is named as \"SpecialAdmit_Demos.xlsx\"\n",
    "file_path = 'SampleDrive/SampleFolder/SpecialAdmit_Demos.xlsx'\n",
    "\n",
    "# Output to the  Excel file\n",
    "df_updated.to_excel(output_file_path, index=False)\n"
   ]
  }
 ],
 "metadata": {
  "kernelspec": {
   "display_name": "Python 3 (ipykernel)",
   "language": "python",
   "name": "python3"
  },
  "language_info": {
   "codemirror_mode": {
    "name": "ipython",
    "version": 3
   },
   "file_extension": ".py",
   "mimetype": "text/x-python",
   "name": "python",
   "nbconvert_exporter": "python",
   "pygments_lexer": "ipython3",
   "version": "3.11.7"
  }
 },
 "nbformat": 4,
 "nbformat_minor": 5
}
