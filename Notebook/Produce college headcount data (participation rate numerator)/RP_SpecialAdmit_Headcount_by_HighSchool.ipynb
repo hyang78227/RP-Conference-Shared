{
 "cells": [
  {
   "cell_type": "markdown",
   "id": "68527d81-6fc1-4347-884a-6a123b13d4bb",
   "metadata": {},
   "source": [
    "# 1. Import Python Pakcages "
   ]
  },
  {
   "cell_type": "code",
   "execution_count": 1,
   "id": "3b03c7f9-3dd9-4fb1-b32a-e5796a0b50d1",
   "metadata": {},
   "outputs": [],
   "source": [
    "import pandas as pd\n",
    "import os\n",
    "import numpy as np\n",
    "import matplotlib.pyplot as plt\n",
    "import seaborn as sns"
   ]
  },
  {
   "cell_type": "markdown",
   "id": "98bd450d-3970-4fff-b4a8-574c144b499f",
   "metadata": {},
   "source": [
    "# 2. Import \"Special Admit Foundation\" Data"
   ]
  },
  {
   "cell_type": "code",
   "execution_count": 1,
   "id": "9ee08755-712c-44cb-a4b9-066cb94f7844",
   "metadata": {},
   "outputs": [],
   "source": [
    "# Define the file path to import Special Admit Foundation Data\n",
    "# Replace \"sampledrive\\samplefolder\\samplefile\" with correct path (\"drive\\folder\\file\")\n",
    "file_path = 'sampledrive\\samplefolder\\samplefile'\n",
    "\n",
    "#check to see if the file path exists  \n",
    "print(os.path.exists(file_path))  # Return \"True\" or \"Flase\"\n",
    "\n",
    "# Read the file into a DataFrame named \"df_ecc_2324\"\n",
    "# Assuming the file is delimited by a specific character, for example, a comma. \n",
    "# Adjust the delimiter as needed.\n",
    "df_ecc_2324 = pd.read_csv(file_path, delimiter=',', low_memory=False)  # Change delimiter if necessary\n",
    "\n",
    "# (Optional) Display the first few rows and the shape of the DataFrame to verify\n",
    "print(df_ecc_2324.head())"
   ]
  },
  {
   "cell_type": "markdown",
   "id": "af8fbb5e-2532-4084-b25c-6686b390d140",
   "metadata": {},
   "source": [
    "### Check on Required Columns/Values"
   ]
  },
  {
   "cell_type": "code",
   "execution_count": 2,
   "id": "9afc2845-9c7d-4ebb-b1d3-3242e15a7ef9",
   "metadata": {},
   "outputs": [],
   "source": [
    "# The .info() method displays summary information about the dataframe,  \n",
    "# including the number of non-null values, data types, and memory usage.  \n",
    "df_ecc_2324.info()"
   ]
  },
  {
   "cell_type": "code",
   "execution_count": null,
   "id": "451e1f5e-4004-4127-a04d-a9378f769622",
   "metadata": {},
   "outputs": [],
   "source": [
    "# Verify the required columns and values for processing\n",
    "\n",
    "# Required column names\n",
    "required_columns = ['Emplid', 'Ethnicity', 'AcYr', 'AdmitType', 'EnrollType', 'HighSchool']\n",
    "\n",
    "# Check for missing columns\n",
    "missing_columns = [col for col in required_columns if col not in df_ecc_2324.columns]\n",
    "if missing_columns:\n",
    "    raise ValueError(f\"Missing required columns: {missing_columns}\")\n",
    "else:\n",
    "    print(\"All required columns are present.\")\n",
    "\n",
    "# Verify required values in 'EnrollType'\n",
    "required_enroll_types = {\"non-CCAP Dual\", \"CCAP\", \"Concurrent\"}\n",
    "actual_enroll_types = set(df_ecc_2324['EnrollType'].unique())\n",
    "missing_enroll_types = required_enroll_types - actual_enroll_types\n",
    "if missing_enroll_types:\n",
    "    raise ValueError(f\"Missing required values in 'EnrollType': {missing_enroll_types}\")\n",
    "else:\n",
    "    print(\"All required 'EnrollType' values are present.\")\n",
    "\n",
    "# Verify required values in 'AdmitType'\n",
    "required_admit_types = {\"Conc\", \"Dual\"}\n",
    "actual_admit_types = set(df_ecc_2324['AdmitType'].unique())\n",
    "missing_admit_types = required_admit_types - actual_admit_types\n",
    "if missing_admit_types:\n",
    "    raise ValueError(f\"Missing required values in 'AdmitType': {missing_admit_types}\")\n",
    "else:\n",
    "    print(\"All required 'AdmitType' values are present.\")\n",
    "\n",
    "# Optionally rename columns if needed\n",
    "i_renameCol = 0  # Set to 1 if renaming is required\n",
    "\n",
    "if i_renameCol == 1:\n",
    "    # Define renaming map\n",
    "    rename_dict = {\n",
    "        'OldColumnName1': 'NewColumnName1',\n",
    "        'OldColumnName2': 'NewColumnName2',\n",
    "        'OldColumnName3': 'NewColumnName3',\n",
    "        # Add more mappings if needed\n",
    "    }\n",
    "    \n",
    "    # Rename columns\n",
    "    df_ecc_2324 = df_ecc_2324.rename(columns=rename_dict)\n",
    "\n",
    "    # Display updated dataframe\n",
    "    print(\"Updated Dataframe Preview:\")\n",
    "    print(df_ecc_2324.head())\n",
    "\n",
    "# Output to confirm successful validation\n",
    "print(\"Data validation completed successfully.\")"
   ]
  },
  {
   "cell_type": "markdown",
   "id": "1152a1f4-9110-4955-af33-afd04323a975",
   "metadata": {},
   "source": [
    " ### Clean up \"HighSchool\" for missing values, if needed"
   ]
  },
  {
   "cell_type": "code",
   "execution_count": 3,
   "id": "33c0f68b-d357-4147-aff2-e7f5d9c52087",
   "metadata": {},
   "outputs": [],
   "source": [
    "# Display the count of unique values in the 'HighSchool' column, including NaN values.\n",
    "# This helps check the distribution of high school names and detect missing or inconsistent entries.\n",
    "print(df_ecc_2324.HighSchool.value_counts(dropna=False))\n",
    "\n",
    "# Comment: Identified that missing values in the 'HighSchool' column are represented by various symbols:\n",
    "# blank (''), double quotes ('\"\"'), and a space (' '). These values need to be standardized to 'Unreported'.\n",
    "# This ensures consistency in how missing values are handled and prevents errors during analysis.\n",
    "df_ecc_2324['HighSchool'] = df_ecc_2324['HighSchool'].replace(['', '\"\"', ' '], 'Unreported')\n",
    "\n",
    "# Optionally, display the updated 'HighSchool' column to verify changes.\n",
    "print(df_ecc_2324['HighSchool'].value_counts(dropna=False))"
   ]
  },
  {
   "cell_type": "markdown",
   "id": "2e45d64c-9ca5-49e6-ae20-117ee2e79839",
   "metadata": {},
   "source": [
    " ### Check Columns \"AcYr\", \"EnrollType\", \"Ethnicity\", \"AdmitType\""
   ]
  },
  {
   "cell_type": "code",
   "execution_count": 4,
   "id": "a0d56a26-1a1b-47c9-b2ae-b467ae98b53e",
   "metadata": {},
   "outputs": [],
   "source": [
    "# Display the count of unique values in the 'EnrollType' column, including NaN values.\n",
    "# This helps identify the distribution of enroll types and detect any missing values (NaN).\n",
    "print(df_ecc_2324.EnrollType.value_counts(dropna=False))\n",
    "\n",
    "# Display the count of unique values in the 'AcYr' (Academic Year) column, including NaN values.\n",
    "# This will give an overview of the academic years present in the dataset, including any missing years.\n",
    "print(df_ecc_2324.AcYr.value_counts(dropna=False))\n",
    "\n",
    "# Display the count of unique values in the 'Ethnicity' column, including NaN values.\n",
    "# This shows the distribution of ethnicities in the dataset, including any missing data (NaN).\n",
    "print(df_ecc_2324.Ethnicity.value_counts(dropna=False))\n",
    "\n",
    "# Display the count of unique values in the 'AdmitType' column, including NaN values.\n",
    "# This shows the distribution of ethnicities in the dataset, including any missing data (NaN).\n",
    "print(df_ecc_2324.AdmitType.value_counts(dropna=False))"
   ]
  },
  {
   "cell_type": "markdown",
   "id": "6fb711ec-dfc4-42dc-96d8-8e82ce09c30a",
   "metadata": {},
   "source": [
    " ### Two way contigency tables to examine distribution of data, if needed"
   ]
  },
  {
   "cell_type": "code",
   "execution_count": 5,
   "id": "b7d751e9-2a00-4569-a2a3-65fa905cae36",
   "metadata": {},
   "outputs": [],
   "source": [
    "# Create and display a two-way frequency table (crosstab)  \n",
    "# showing the count of 'EnrollType' occurrences for each 'HighSchool'.  \n",
    "print(pd.crosstab(df_ecc_2324['HighSchool'], df_ecc_2324['EnrollType']))"
   ]
  },
  {
   "cell_type": "markdown",
   "id": "49eb8101-57af-4875-9167-451bdb6e6ab8",
   "metadata": {},
   "source": [
    " ### Visually Examine Overall Missing Data "
   ]
  },
  {
   "cell_type": "code",
   "execution_count": 9,
   "id": "9f2783f8-6a73-433e-868f-69faa113c4bd",
   "metadata": {},
   "outputs": [],
   "source": [
    "# change i_missing value to 1 to visually check on missing data in other variavbles\n",
    "i_missing=0\n",
    "\n",
    "if i_missing==1:\n",
    "    plt.figure(figsize=(10,6))\n",
    "    sns.displot(\n",
    "        data=df_ecc_2324.isna().melt(value_name=\"missing\"),\n",
    "        y=\"variable\",\n",
    "        hue=\"missing\",\n",
    "        multiple=\"fill\",\n",
    "        aspect=1.25\n",
    "    )"
   ]
  },
  {
   "cell_type": "markdown",
   "id": "24992363-0f3b-45fe-8529-d57c59483e1c",
   "metadata": {},
   "source": [
    "# 3. Data Aggregation"
   ]
  },
  {
   "cell_type": "markdown",
   "id": "a336c12a-4acf-4d06-915e-1335f4598ceb",
   "metadata": {},
   "source": [
    "## 3.1. Aggregate Students by 'HighSchool', 'AcYr', 'EnrollType'"
   ]
  },
  {
   "cell_type": "code",
   "execution_count": 10,
   "id": "04eeaa43-8ea5-4df1-99ff-50ff5a1c9ff1",
   "metadata": {},
   "outputs": [],
   "source": [
    "# Step 1: Filter out rows with missing values in the 'HighSchool' column\n",
    "# Only include rows where 'HighSchool' is not NaN\n",
    "filtered_data = df_ecc_2324.dropna(subset=['HighSchool'])\n",
    "\n",
    "# Step 2: Aggregate students by 'HighSchool', 'AcYr', and 'EnrollType' to calculate unique student headcounts\n",
    "# The unique count of 'Emplid' represents the number of students for each combination\n",
    "aggregated_data = (\n",
    "    filtered_data.groupby(['HighSchool', 'AcYr', 'EnrollType'])\n",
    "    .agg({'Emplid': 'nunique'})\n",
    "    .reset_index()\n",
    ")\n",
    "\n",
    "# Rename the count column to 'HeadCount' for clarity\n",
    "aggregated_data = aggregated_data.rename(columns={'Emplid': 'HeadCount'})\n",
    "\n",
    "# Step 3: Pivot the aggregated data to wide format\n",
    "# Create a table where each 'EnrollType' becomes a column\n",
    "wide_table_1 = aggregated_data.pivot_table(\n",
    "    index=['HighSchool', 'AcYr'],  # Group by 'HighSchool' and 'AcYr'\n",
    "    columns=['EnrollType'],        # Use 'EnrollType' as column headers\n",
    "    values='HeadCount',            # Use 'HeadCount' as cell values\n",
    "    fill_value=0                   # Fill missing values with 0\n",
    ")\n",
    "\n",
    "# Step 4: Aggregate students by 'HighSchool' and 'AcYr' to calculate total unique students across all EnrollTypes\n",
    "total_headcount = (\n",
    "    filtered_data.groupby(['HighSchool', 'AcYr'])\n",
    "    .agg({'Emplid': 'nunique'})\n",
    "    .rename(columns={'Emplid': 'SA'})  # Rename the count column to 'SA'\n",
    ")\n",
    "\n",
    "# Step 5: Combine the pivoted data and total headcount data horizontally\n",
    "# This results in a table with both 'EnrollType' headcounts and total 'SA' counts\n",
    "wide_table_1 = pd.concat([wide_table_1, total_headcount], axis=1)\n",
    "\n",
    "\n",
    "# Step 6: Replace \"SampleCollege\" with your college Abbreviation (e.g., \"SDCCD\"). \n",
    "# Add \"SampleCollege_' as a prefix and '_Total' as a suffix to all column names to standardize the naming format.\n",
    "# For example: \"CCAP\" becomes \"SampleCollege_CCAP_Total\" (e.g.,\"SDCCD_CCAP_Total\").\n",
    "\n",
    "wide_table_1.columns = [\n",
    "    'SampleCollege_' + ''.join(col).strip() + '_Total' for col in wide_table_1.columns.values\n",
    "]\n",
    "\n",
    "# Step 7: Reset the index to make 'HighSchool' and 'AcYr' regular columns\n",
    "wide_table_1.reset_index(inplace=True)\n",
    "\n",
    "# Step 8: Rename the 'HighSchool' column to 'School_SampleCollege'\n",
    "# This aligns with naming conventions for later joins with other tables\n",
    "wide_table_1 = wide_table_1.rename(columns={'HighSchool': 'School_SampleCollege'})\n",
    "\n",
    "# Step 9: (Optional) \n",
    "#Display the first few rows and the shape of the final wide-format table for verification.\n",
    "# Uncomment the lines below to inspect the output.\n",
    "# print(wide_table_1.head())\n",
    "# print(wide_table_1.shape)\n"
   ]
  },
  {
   "cell_type": "markdown",
   "id": "0e9d1c7f-0672-4150-bff9-68fe4b1c069b",
   "metadata": {},
   "source": [
    "## 3.2. Aggregate students by 'HighSchool', 'AcYr', 'EnrollType', and 'Ethnicity'"
   ]
  },
  {
   "cell_type": "code",
   "execution_count": 11,
   "id": "bdb5ef72-07d7-4dec-b297-052c9b761447",
   "metadata": {},
   "outputs": [],
   "source": [
    "# Step 1: Aggregate students by 'HighSchool', 'AcYr', 'EnrollType', and 'Ethnicity' to calculate unique headcounts\n",
    "# The unique count of 'Emplid' represents the number of students for each combination\n",
    "aggregated_data = (\n",
    "    filtered_data.groupby(['HighSchool', 'AcYr', 'EnrollType', 'Ethnicity'])\n",
    "    .agg({'Emplid': 'nunique'})\n",
    "    .reset_index()\n",
    ")\n",
    "\n",
    "# Rename the count column to 'HeadCount'\n",
    "aggregated_data = aggregated_data.rename(columns={'Emplid': 'HeadCount'})\n",
    "\n",
    "# Step 2: Pivot the aggregated data to wide format\n",
    "# Create a table where the combination of 'EnrollType' and 'Ethnicity' becomes column headers\n",
    "wide_table_2 = aggregated_data.pivot_table(\n",
    "    index=['HighSchool', 'AcYr'],  # Group by 'HighSchool' and 'AcYr'\n",
    "    columns=['EnrollType', 'Ethnicity'],  # Use combined 'EnrollType' and 'Ethnicity' as columns\n",
    "    values='HeadCount',  # Use 'HeadCount' as cell values\n",
    "    fill_value=0  # Fill missing values with 0\n",
    ")\n",
    "\n",
    "# Step 3: Format column names by combining 'EnrollType' and 'Ethnicity' with an 'SampleCollege_' prefix\n",
    "wide_table_2.columns = ['SampleCollege_' + '_'.join(col).strip() for col in wide_table_2.columns.values]\n",
    "\n",
    "# Step 4: Aggregate students by 'HighSchool', 'AcYr', and 'Ethnicity' to calculate headcounts across all 'EnrollType'\n",
    "# This will give the total unique headcounts by ethnicity\n",
    "temp = (\n",
    "    filtered_data.groupby(['HighSchool', 'AcYr', 'Ethnicity'])\n",
    "    .agg({'Emplid': 'nunique'})\n",
    "    .rename(columns={'Emplid': 'HeadCount'})  # Rename the count column\n",
    ")\n",
    "\n",
    "# Step 5: Pivot the aggregated data to wide format with 'Ethnicity' as columns\n",
    "temp = temp.pivot_table(\n",
    "    index=['HighSchool', 'AcYr'],  # Group by 'HighSchool' and 'AcYr'\n",
    "    columns='Ethnicity',  # Use 'Ethnicity' as columns\n",
    "    values='HeadCount',  # Use 'HeadCount' as cell values\n",
    "    fill_value=0  # Fill missing values with 0\n",
    ")\n",
    "\n",
    "# Step 6: Add 'SampleCollege_SA_' prefix to column names for clarity\n",
    "temp.columns = ['SampleCollege_SA_' + col.strip() for col in temp.columns.values]\n",
    "\n",
    "# Step 7: Combine the two pivoted tables horizontally\n",
    "# This results in a table with both 'EnrollType-Ethnicity' and total 'SA-Ethnicity' headcounts\n",
    "wide_table_2 = pd.concat([wide_table_2, temp], axis=1)\n",
    "\n",
    "# Step 8: Reset the index to make 'HighSchool' and 'AcYr' regular columns\n",
    "wide_table_2.reset_index(inplace=True)\n",
    "\n",
    "# Step 9: Rename the 'HighSchool' column to 'School_SampleCollege' for consistency and future joins\n",
    "wide_table_2 = wide_table_2.rename(columns={'HighSchool': 'School_SampleCollege'})\n",
    "\n",
    "# Step 10: (Optional) \n",
    "#Display the first few rows and the shape of the final wide-format table for verification.\n",
    "# Uncomment the lines below to inspect the output.\n",
    "# print(wide_table_2.head())\n",
    "# print(wide_table_2.shape)\n"
   ]
  },
  {
   "cell_type": "markdown",
   "id": "03659adb-5364-41dd-8f89-5109990701f1",
   "metadata": {},
   "source": [
    "## 3.3. Aggregate Students by 'HighSchool', 'AcYr', 'AdmitType'"
   ]
  },
  {
   "cell_type": "code",
   "execution_count": 12,
   "id": "8a5c89a7-fb20-491e-ba24-c1c0fd4d58ab",
   "metadata": {},
   "outputs": [],
   "source": [
    "# Step 1: Aggregate students by 'HighSchool', 'AcYr', and 'AdmitType'\n",
    "# Count unique 'Emplid' to calculate the number of students for each combination\n",
    "aggregated_data = (\n",
    "    filtered_data.groupby(['HighSchool', 'AcYr', 'AdmitType'])\n",
    "    .agg({'Emplid': 'nunique'})\n",
    "    .reset_index()\n",
    ")\n",
    "\n",
    "# Step 2: Rename the count column to 'HeadCount'\n",
    "aggregated_data = aggregated_data.rename(columns={'Emplid': 'HeadCount'})\n",
    "\n",
    "# Step 3: Pivot the aggregated data to wide format\n",
    "# Use 'AdmitType' as columns and 'HeadCount' as cell values\n",
    "wide_table_3 = aggregated_data.pivot_table(\n",
    "    index=['HighSchool', 'AcYr'],  # Group by 'HighSchool' and 'AcYr'\n",
    "    columns='AdmitType',  # Use 'AdmitType' as columns\n",
    "    values='HeadCount',  # Use 'HeadCount' as cell values\n",
    "    fill_value=0  # Fill missing values with 0\n",
    ")\n",
    "\n",
    "# Step 4: Add 'SampleCollege_' prefix to column names to clarify 'AdmitType'\n",
    "wide_table_3.columns = ['SampleCollege_' + col + '_Total' for col in wide_table_3.columns]\n",
    "\n",
    "# Step 5: Reset the index to make 'HighSchool' and 'AcYr' regular columns\n",
    "wide_table_3.reset_index(inplace=True)\n",
    "\n",
    "# Step 6: Rename the 'HighSchool' column to 'School_SampleCollege' for consistency in joins\n",
    "wide_table_3 = wide_table_3.rename(columns={'HighSchool': 'School_SampleCollege'})\n",
    "\n",
    "# Step 7: (Optional) \n",
    "#Display the first few rows and the shape of the final wide-format table for verification.\n",
    "# Uncomment the lines below to inspect the output.\n",
    "# print(wide_table_3.head())\n",
    "# print(wide_table_3.shape)\n"
   ]
  },
  {
   "cell_type": "markdown",
   "id": "d194b935-cd8b-4303-89a5-a895fd7acb75",
   "metadata": {},
   "source": [
    "## 3.4. Aggragate Students by 'HighSchool', 'AcYr', 'AdmitType', 'Ethnicity'"
   ]
  },
  {
   "cell_type": "code",
   "execution_count": 13,
   "id": "13000783-f7bd-4ae1-89d5-192209173045",
   "metadata": {},
   "outputs": [],
   "source": [
    "# Step 1: Aggregate students by 'HighSchool', 'AcYr', 'AdmitType', and 'Ethnicity'\n",
    "# Count unique 'Emplid' to calculate headcounts for each combination\n",
    "aggregated_data = (\n",
    "    filtered_data.groupby(['HighSchool', 'AcYr', 'AdmitType', 'Ethnicity'])\n",
    "    .agg({'Emplid': 'nunique'})\n",
    "    .reset_index()\n",
    ")\n",
    "\n",
    "# Step 2: Rename the count column to 'HeadCount'\n",
    "aggregated_data = aggregated_data.rename(columns={'Emplid': 'HeadCount'})\n",
    "\n",
    "# Step 3: Pivot the aggregated data to wide format\n",
    "# Use combined values of 'AdmitType' and 'Ethnicity' as column headers\n",
    "wide_table_4 = aggregated_data.pivot_table(\n",
    "    index=['HighSchool', 'AcYr'],  # Group by 'HighSchool' and 'AcYr'\n",
    "    columns=['AdmitType', 'Ethnicity'],  # Use 'AdmitType' and 'Ethnicity' as columns\n",
    "    values='HeadCount',  # Use 'HeadCount' as cell values\n",
    "    fill_value=0  # Fill missing values with 0\n",
    ")\n",
    "\n",
    "# Step 4: Rename the columns\n",
    "# Combine 'AdmitType' and 'Ethnicity' into a single string and add 'SampleCollege_' prefix for clarity\n",
    "wide_table_4.columns = ['SampleCollege_' + '_'.join(col).strip() for col in wide_table_4.columns.values]\n",
    "\n",
    "# Step 5: Reset the index to make 'HighSchool' and 'AcYr' regular columns\n",
    "wide_table_4.reset_index(inplace=True)\n",
    "\n",
    "# Step 6: Rename the 'HighSchool' column to 'School_SampleCollege' for consistency in naming\n",
    "wide_table_4 = wide_table_4.rename(columns={'HighSchool': 'School_SampleCollege'})\n",
    "\n",
    "# Step 7: (Optional) \n",
    "#Display the first few rows and the shape of the final wide-format table for verification.\n",
    "# Uncomment the lines below to inspect the output.\n",
    "# print(wide_table_4.head())\n",
    "# print(wide_table_4.shape)"
   ]
  },
  {
   "cell_type": "markdown",
   "id": "4d68b279-3276-4317-8f00-ad2f886d1d5d",
   "metadata": {},
   "source": [
    "# 4. Combine all the aggregation tables"
   ]
  },
  {
   "cell_type": "code",
   "execution_count": null,
   "id": "b3a1f907-adc6-42a1-bfbb-ce74a503ac1a",
   "metadata": {},
   "outputs": [],
   "source": [
    "# Concatenate tables horizontally based on common columns\n",
    "combined_table = pd.concat([wide_table_1.set_index([\"School_SampleCollege\", \"AcYr\"]),\n",
    "                            wide_table_2.set_index([\"School_SampleCollege\", \"AcYr\"]),\n",
    "                            wide_table_3.set_index([\"School_SampleCollege\", \"AcYr\"]),\n",
    "                            wide_table_4.set_index([\"School_SampleCollege\", \"AcYr\"])],\n",
    "                            axis=1)\n",
    "\n",
    "# Reset index to convert 'School_SampleCollege' and 'AcYr' back to columns\n",
    "combined_table.reset_index(inplace=True)\n",
    "combined_table.shape\n",
    "\n",
    "#drop duplicated columns, i.e,.'SampleCollege_Concurrent_African America' and 'SampleCollege_Conc_African America ' are duplicates, and so on \n",
    "#for example, 'SDCCD_Concurrent_African America' is a duplicate of 'SDCCD_Conc_African America ' \n",
    "# List of columns to drop\n",
    "columns_to_drop = [\n",
    "    'SampleCollege_Conc_Total', 'SampleCollege_Concurrent_African America',\n",
    "    'SampleCollege_Concurrent_Asian', 'SampleCollege_Concurrent_Filipino',\n",
    "    'SampleCollege_Concurrent_Latinx', 'SampleCollege_Concurrent_Multi-Ethnicity',\n",
    "    'SampleCollege_Concurrent_Native American', 'SampleCollege_Concurrent_Pacific Islande',\n",
    "    'SampleCollege_Concurrent_Unreported', 'SampleCollege_Concurrent_White'\n",
    "]\n",
    "\n",
    "# Drop the specified columns\n",
    "combined_table.drop(columns=columns_to_drop, inplace=True)\n",
    "# Rename columns as needed\n",
    "combined_table = combined_table.rename(columns={'SampleCollege_Concurrent_Total': 'SampleCollege_Conc_Total'})"
   ]
  },
  {
   "cell_type": "markdown",
   "id": "608b6520-fd30-437f-9194-72b254abb5c8",
   "metadata": {},
   "source": [
    "# 5. Output Aggregated Highshool data into An Excel File for Later Import into \"RP_SpecialAdmit_Headcount_Combined.ipynb\""
   ]
  },
  {
   "cell_type": "code",
   "execution_count": null,
   "id": "ac780e31-130c-400f-949d-7e5539bcde74",
   "metadata": {},
   "outputs": [],
   "source": [
    "# Define the file path where you want your  aggregated Highschool data to be stored\n",
    "#Replace \"sampledrive\\samplefolder\\samplefile\" with correct path (\"drive\\folder\\file\")\n",
    "file_path = 'sampledrive\\samplefolder\\samplefile'\n",
    "\n",
    "# Save the aggregated data to an Excel file\n",
    "combined_table.to_excel(file_path, index=False)\n",
    "\n",
    "print(f\"Combined data has been saved to: {file_path}\")"
   ]
  }
 ],
 "metadata": {
  "kernelspec": {
   "display_name": "Python 3 (ipykernel)",
   "language": "python",
   "name": "python3"
  },
  "language_info": {
   "codemirror_mode": {
    "name": "ipython",
    "version": 3
   },
   "file_extension": ".py",
   "mimetype": "text/x-python",
   "name": "python",
   "nbconvert_exporter": "python",
   "pygments_lexer": "ipython3",
   "version": "3.11.7"
  }
 },
 "nbformat": 4,
 "nbformat_minor": 5
}
