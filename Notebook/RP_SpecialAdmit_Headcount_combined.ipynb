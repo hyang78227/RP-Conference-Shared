{
 "cells": [
  {
   "cell_type": "code",
   "execution_count": 1,
   "id": "3b03c7f9-3dd9-4fb1-b32a-e5796a0b50d1",
   "metadata": {},
   "outputs": [],
   "source": [
    "import pandas as pd\n",
    "import os\n",
    "import numpy as np\n",
    "import matplotlib.pyplot as plt\n",
    "import seaborn as sns"
   ]
  },
  {
   "cell_type": "markdown",
   "id": "a336c12a-4acf-4d06-915e-1335f4598ceb",
   "metadata": {},
   "source": [
    "# 1. Import Special Admit Foundation Data"
   ]
  },
  {
   "cell_type": "code",
   "execution_count": 1,
   "id": "9ee08755-712c-44cb-a4b9-066cb94f7844",
   "metadata": {},
   "outputs": [],
   "source": [
    "# Define the file path to import Special Admit Foundation Data\n",
    "# Replace \"sampledrive\\samplefolder\\samplefile\" with correct path (\"drive\\folder\\file\")\n",
    "file_path = 'sampledrive\\samplefolder\\samplefile'\n",
    "\n",
    "#check to see if the file path exists  \n",
    "print(os.path.exists(file_path))  # Return \"True\" or \"Flase\"\n",
    "\n",
    "# Read the file into a DataFrame named \"df_ecc_2324\"\n",
    "# Assuming the file is delimited by a specific character, for example, a comma. \n",
    "# Adjust the delimiter as needed.\n",
    "df_ecc_2324 = pd.read_csv(file_path, delimiter=',', low_memory=False)  # Change delimiter if necessary\n",
    "\n",
    "# (Optional) Display the first few rows and the shape of the DataFrame to verify\n",
    "print(df_ecc_2324.head())"
   ]
  },
  {
   "cell_type": "markdown",
   "id": "fa4e33fd-95cd-4c2a-91b9-fee2418c8ede",
   "metadata": {},
   "source": [
    "### Check on Required Columns/Values"
   ]
  },
  {
   "cell_type": "code",
   "execution_count": null,
   "id": "b5f855f3-d3f5-47aa-bb33-ccafd27348c5",
   "metadata": {},
   "outputs": [],
   "source": [
    "# Verify the required columns and values for processing\n",
    "\n",
    "# Required column names\n",
    "required_columns = ['Emplid', 'Ethnicity', 'AcYr', 'AdmitType', 'EnrollType', 'HighSchool']\n",
    "\n",
    "# Check for missing columns\n",
    "missing_columns = [col for col in required_columns if col not in df_ecc_2324.columns]\n",
    "if missing_columns:\n",
    "    raise ValueError(f\"Missing required columns: {missing_columns}\")\n",
    "else:\n",
    "    print(\"All required columns are present.\")\n",
    "\n",
    "# Verify required values in 'EnrollType'\n",
    "required_enroll_types = {\"non-CCAP Dual\", \"CCAP\", \"Concurrent\"}\n",
    "actual_enroll_types = set(df_ecc_2324['EnrollType'].unique())\n",
    "missing_enroll_types = required_enroll_types - actual_enroll_types\n",
    "if missing_enroll_types:\n",
    "    raise ValueError(f\"Missing required values in 'EnrollType': {missing_enroll_types}\")\n",
    "else:\n",
    "    print(\"All required 'EnrollType' values are present.\")\n",
    "\n",
    "# Verify required values in 'AdmitType'\n",
    "required_admit_types = {\"Conc\", \"Dual\"}\n",
    "actual_admit_types = set(df_ecc_2324['AdmitType'].unique())\n",
    "missing_admit_types = required_admit_types - actual_admit_types\n",
    "if missing_admit_types:\n",
    "    raise ValueError(f\"Missing required values in 'AdmitType': {missing_admit_types}\")\n",
    "else:\n",
    "    print(\"All required 'AdmitType' values are present.\")\n",
    "\n",
    "# Optionally rename columns if needed\n",
    "i_renameCol = 0  # Set to 1 if renaming is required\n",
    "\n",
    "if i_renameCol == 1:\n",
    "    # Define renaming map\n",
    "    rename_dict = {\n",
    "        'OldColumnName1': 'NewColumnName1',\n",
    "        'OldColumnName2': 'NewColumnName2',\n",
    "        'OldColumnName3': 'NewColumnName3',\n",
    "        # Add more mappings if needed\n",
    "    }\n",
    "    \n",
    "    # Rename columns\n",
    "    df_ecc_2324 = df_ecc_2324.rename(columns=rename_dict)\n",
    "\n",
    "    # Display updated dataframe\n",
    "    print(\"Updated Dataframe Preview:\")\n",
    "    print(df_ecc_2324.head())\n",
    "\n",
    "# Output to confirm successful validation\n",
    "print(\"Data validation completed successfully.\")"
   ]
  },
  {
   "cell_type": "markdown",
   "id": "8de58ce1-713d-4968-a0e1-4e619a7d7d09",
   "metadata": {},
   "source": [
    "# 2. Aggregate Students by 'AcYr', 'EnrollType'"
   ]
  },
  {
   "cell_type": "code",
   "execution_count": 4,
   "id": "04eeaa43-8ea5-4df1-99ff-50ff5a1c9ff1",
   "metadata": {},
   "outputs": [],
   "source": [
    "# Step 1: Filter out rows with missing values in the 'HighSchool' column.\n",
    "# Students without high school information are excluded from the analysis.\n",
    "filtered_data = df_ecc_2324.dropna(subset=['HighSchool'])\n",
    "\n",
    "# Step 2: Aggregate the number of unique students ('Emplid') by 'AcYr' (Academic Year) and 'EnrollType'.\n",
    "aggregated_data = filtered_data.groupby(['AcYr', 'EnrollType']).agg({'Emplid': 'nunique'}).reset_index()\n",
    "\n",
    "# Step 3: Rename the aggregated 'Emplid' column to 'HeadCount' to represent the student count.\n",
    "aggregated_data = aggregated_data.rename(columns={'Emplid': 'HeadCount'})\n",
    "\n",
    "# Step 4: Pivot the aggregated data to a wide format with 'EnrollType' as columns and student counts ('HeadCount') as values.\n",
    "wide_table_1 = aggregated_data.pivot_table(index='AcYr', columns=['EnrollType'], values='HeadCount', fill_value=0)\n",
    "\n",
    "# Step 5: Aggregate the number of unique students ('Emplid') by 'AcYr' to get the total headcount for all special admits (SA), across all 'EnrollType'.\n",
    "temp = filtered_data.groupby(['AcYr']).agg({'Emplid': 'nunique'})\n",
    "\n",
    "# Step 6: Rename the aggregated 'Emplid' column in the temporary table to 'SA' to represent special admit totals.\n",
    "temp = temp.rename(columns={'Emplid': 'SA'})\n",
    "\n",
    "# Step 7: Combine the aggregated 'EnrollType' data and the 'SA' totals into a single wide-format table.\n",
    "wide_table_1 = pd.concat([wide_table_1, temp], axis=1)\n",
    "\n",
    "# Step 8: Replace \"SampleCollege\" with your college Abbreviation (e.g., \"SDCCD\").\n",
    "# Add \"SampleCollege_' as a prefix and '_Total' as a suffix to all column names to standardize the naming format.\n",
    "# For example: \"CCAP\" becomes \"SampleCollege_CCAP_Total\" (e.g.,\"SDCCD_CCAP_Total\").\n",
    "wide_table_1.columns = ['SampleCollege_' + ''.join(col).strip() + '_Total' for col in wide_table_1.columns.values]\n",
    "\n",
    "# Step 9: Reset the index to move 'AcYr' from the index to a regular column for better accessibility.\n",
    "wide_table_1.reset_index(inplace=True)\n",
    "\n",
    "# (Optional) Display the first few rows and the shape of the final wide-format table for verification.\n",
    "# Uncomment the lines below to inspect the output.\n",
    "# print(wide_table_1.head())\n",
    "# print(wide_table_1.shape)"
   ]
  },
  {
   "cell_type": "markdown",
   "id": "0e9d1c7f-0672-4150-bff9-68fe4b1c069b",
   "metadata": {},
   "source": [
    "# 3: Aggregate students by'AcYr', 'EnrollType', and 'Ethnicity'"
   ]
  },
  {
   "cell_type": "code",
   "execution_count": 5,
   "id": "1e911aa3-7d8a-4846-95b5-0f29f49fd942",
   "metadata": {},
   "outputs": [],
   "source": [
    "# Aggregate students by 'AcYr', 'EnrollType', and 'Ethnicity'.\n",
    "aggregated_data = filtered_data.groupby(['AcYr', 'EnrollType', 'Ethnicity']).agg({'Emplid': 'nunique'}).reset_index()\n",
    "\n",
    "# Rename the 'Emplid' column to 'HeadCount' to indicate the number of unique students.\n",
    "aggregated_data = aggregated_data.rename(columns={'Emplid': 'HeadCount'})\n",
    "\n",
    "# Pivot the aggregated data to a wide format with combined 'EnrollType' and 'Ethnicity' as column headers.\n",
    "wide_table_2 = aggregated_data.pivot_table(index='AcYr', columns=['EnrollType', 'Ethnicity'], values='HeadCount', fill_value=0)\n",
    "\n",
    "# Rename columns by combining 'EnrollType' and 'Ethnicity' into a single string and adding the 'SampleCollege_' prefix.\n",
    "wide_table_2.columns = ['SampleCollege_' + '_'.join(col).strip() for col in wide_table_2.columns.values]\n",
    "\n",
    "# Aggregate students by 'AcYr' and 'Ethnicity' to get the headcounts of all special admit (SA) students by ethnicity.\n",
    "temp = filtered_data.groupby(['AcYr', 'Ethnicity']).agg({'Emplid': 'nunique'})\n",
    "\n",
    "# Rename the 'Emplid' column in the temporary dataframe to 'HeadCount'.\n",
    "temp = temp.rename(columns={'Emplid': 'HeadCount'})\n",
    "\n",
    "# Pivot the temporary data to a wide format with 'Ethnicity' as column headers.\n",
    "temp = temp.pivot_table(index='AcYr', columns='Ethnicity', values='HeadCount', fill_value=0)\n",
    "\n",
    "# Rename columns in the temporary dataframe by adding the 'SampleCollege_SA_' prefix to the ethnicity names.\n",
    "temp.columns = ['SampleCollege_SA_' + ''.join(col).strip() for col in temp.columns.values]\n",
    "\n",
    "# Combine the two aggregated dataframes (wide_table_2 and temp) side-by-side.\n",
    "wide_table_2 = pd.concat([wide_table_2, temp], axis=1)\n",
    "\n",
    "# Reset the index to make 'AcYr' a regular column.\n",
    "wide_table_2.reset_index(inplace=True)\n",
    "\n",
    "# (Optional) Display the first few rows and the shape of the final wide-format table for verification.\n",
    "# Uncomment the lines below to inspect the output.\n",
    "#print(wide_table_2.head())\n",
    "#print(wide_table_2.shape)"
   ]
  },
  {
   "cell_type": "markdown",
   "id": "03659adb-5364-41dd-8f89-5109990701f1",
   "metadata": {},
   "source": [
    "# 4. Aggregate Students by 'AcYr', 'AdmitType'"
   ]
  },
  {
   "cell_type": "code",
   "execution_count": 6,
   "id": "8a5c89a7-fb20-491e-ba24-c1c0fd4d58ab",
   "metadata": {},
   "outputs": [],
   "source": [
    "# Aggregate the number of unique students ('Emplid') by 'AcYr' (Academic Year) and 'AdmitType'.\n",
    "aggregated_data = filtered_data.groupby(['AcYr', 'AdmitType']).agg({'Emplid': 'nunique'}).reset_index()\n",
    "\n",
    "# Rename the aggregated 'Emplid' column to 'HeadCount' to indicate student counts.\n",
    "aggregated_data = aggregated_data.rename(columns={'Emplid': 'HeadCount'})\n",
    "\n",
    "# Pivot the data to a wide format where each 'AdmitType' becomes a column, with student counts as values.\n",
    "wide_table_3 = aggregated_data.pivot_table(index='AcYr', columns=['AdmitType'], values='HeadCount', fill_value=0)\n",
    "\n",
    "# Rename columns by prefixing them with 'SampleCollege_' and suffixing them with '_Total' for clarity.\n",
    "wide_table_3.columns = ['SampleCollege_' + col + '_Total' for col in wide_table_3.columns]\n",
    "\n",
    "# Reset the index to convert 'AcYr' from the index back into a regular column.\n",
    "wide_table_3.reset_index(inplace=True)\n",
    "\n",
    "# (Optional) Display the first few rows and the shape of the final wide-format table for verification.\n",
    "# Uncomment the lines below to inspect the output.\n",
    "#print(wide_table_3.head())\n",
    "#print(wide_table_3.shape)"
   ]
  },
  {
   "cell_type": "markdown",
   "id": "d194b935-cd8b-4303-89a5-a895fd7acb75",
   "metadata": {},
   "source": [
    "# 5. Aggregate Students by 'AcYr', 'AdmitType', 'Ethnicity'"
   ]
  },
  {
   "cell_type": "code",
   "execution_count": 7,
   "id": "13000783-f7bd-4ae1-89d5-192209173045",
   "metadata": {},
   "outputs": [],
   "source": [
    "# Aggregate the number of unique students ('Emplid') by 'AcYr' (Academic Year), 'AdmitType', and 'Ethnicity'.\n",
    "aggregated_data = filtered_data.groupby(['AcYr', 'AdmitType', 'Ethnicity']).agg({'Emplid': 'nunique'}).reset_index()\n",
    "\n",
    "# Rename the aggregated 'Emplid' column to 'HeadCount' to represent the count of students.\n",
    "aggregated_data = aggregated_data.rename(columns={'Emplid': 'HeadCount'})\n",
    "\n",
    "# Pivot the data to a wide format where each combination of 'AdmitType' and 'Ethnicity' becomes a column, \n",
    "# with student counts ('HeadCount') as values.\n",
    "wide_table_4 = aggregated_data.pivot_table(index='AcYr', columns=['AdmitType', 'Ethnicity'], values='HeadCount', fill_value=0)\n",
    "\n",
    "# Flatten the hierarchical columns by combining 'AdmitType' and 'Ethnicity' into a single string.\n",
    "# Add a 'SampleCollege_' prefix to the column names for better identification.\n",
    "wide_table_4.columns = ['SampleCollege_' + '_'.join(col).strip() for col in wide_table_4.columns.values]\n",
    "\n",
    "# Reset the index to move 'AcYr' from the index back into a regular column.\n",
    "wide_table_4.reset_index(inplace=True)\n",
    "\n",
    "# (Optional) Display the first few rows and the shape of the final wide-format table for verification.\n",
    "# Uncomment the lines below to inspect the output.\n",
    "# print(wide_table_4.head())\n",
    "# print(wide_table_4.shape)\n",
    "\n"
   ]
  },
  {
   "cell_type": "markdown",
   "id": "96704b8a-fad3-4aca-bcae-93536b4457b4",
   "metadata": {},
   "source": [
    "# 6. Combine All above Aggretated Data Together"
   ]
  },
  {
   "cell_type": "code",
   "execution_count": null,
   "id": "0ae1dbb7-3a57-4556-a638-6f54ed0a437e",
   "metadata": {},
   "outputs": [],
   "source": [
    "# Concatenate tables horizontally based on common columns\n",
    "combined_table = pd.concat([wide_table_1.set_index(\"AcYr\"),\n",
    "                            wide_table_2.set_index(\"AcYr\"),\n",
    "                            wide_table_3.set_index(\"AcYr\"),\n",
    "                            wide_table_4.set_index(\"AcYr\")],\n",
    "                            axis=1)\n",
    "\n",
    "# Reset index to convert 'AcYr' back to columns\n",
    "combined_table.reset_index(inplace=True)\n",
    "combined_table.shape\n",
    "\n",
    "#drop duplicated columns, i.e,.'SampleCollege_Concurrent_African America' and 'SampleCollege_Conc_African America ' are duplicates, and so on \n",
    "#for example, 'SDCCD_Concurrent_African America' is a duplicate of 'SDCCD_Conc_African America ' \n",
    "# List of columns to drop\n",
    "columns_to_drop = [\n",
    "    'SampleCollege_Conc_Total', 'SampleCollege_Concurrent_African America',\n",
    "    'SampleCollege_Concurrent_Asian', 'SampleCollege_Concurrent_Filipino',\n",
    "    'SampleCollege_Concurrent_Latinx', 'SampleCollege_Concurrent_Multi-Ethnicity',\n",
    "    'SampleCollege_Concurrent_Native American', 'SampleCollege_Concurrent_Pacific Islande',\n",
    "    'SampleCollege_Concurrent_Unreported', 'SampleCollege_Concurrent_White'\n",
    "]\n",
    "\n",
    "# Drop the specified columns\n",
    "combined_table.drop(columns=columns_to_drop, inplace=True)\n",
    "# Rename columns as needed\n",
    "combined_table = combined_table.rename(columns={'SampleCollege_Concurrent_Total': 'SampleCollege_Conc_Total'})\n",
    "\n",
    "\n",
    "\n",
    "# Adding the constant column \"SampleCollege\" with the value \"Overall\" as the first column\n",
    "combined_table.insert(0, \"SampleCollege\",\"Overall\")\n",
    "\n",
    "# Define the file path where you want your conbined & aggregated data to be stored\n",
    "#Replace \"sampledrive\\samplefolder\\samplefile\" with correct path (\"drive\\folder\\file\")\n",
    "file_path = 'sampledrive\\samplefolder\\samplefile'\n",
    "\n",
    "# Save the aggregated data to an Excel file\n",
    "combined_table.to_excel(file_path, index=False)\n",
    "\n",
    "print(f\"Combined data has been saved to: {file_path}\")\n",
    "\n",
    "# (Optional) Display the first few rows and the shape of the final wide-format table for verification.\n",
    "# Uncomment the lines below to inspect the output.\n",
    "# print(combined_table.head())\n",
    "# print(combined_table.shape)"
   ]
  },
  {
   "cell_type": "markdown",
   "id": "f5c074ee-b591-44df-981c-29183acbaca7",
   "metadata": {},
   "source": [
    "# 7. Import HighSchool Aggregated Data\n",
    "#### The HighSchool Aggregated Data was Produced by \"RP_SpecialAdmit_Headcount_HS.ipynb\""
   ]
  },
  {
   "cell_type": "code",
   "execution_count": 9,
   "id": "21bec4bc-6833-4a7e-9d08-c4aa928fcd9a",
   "metadata": {},
   "outputs": [
    {
     "name": "stdout",
     "output_type": "stream",
     "text": [
      "File loaded successfully.\n"
     ]
    }
   ],
   "source": [
    "# Define the file path where your Highschool aggreated data is stored. \n",
    "# Replace \"sampledrive\\samplefolder\\samplefile\" with correct path (\"drive\\folder\\file\")\n",
    "file_path = 'sampledrive\\samplefolder\\samplefile'\n",
    "\n",
    "# Check if file exists before reading\n",
    "if os.path.exists(file_path):\n",
    "    # Load data into a DataFrame\n",
    "    df_agg_HS = pd.read_excel(file_path)\n",
    "    print(\"File loaded successfully.\")\n",
    "else:\n",
    "    print(f\"Error: The file at {file_path} does not exist.\")"
   ]
  },
  {
   "cell_type": "markdown",
   "id": "3d8ee506-4d3a-471b-9cb9-983f651a2387",
   "metadata": {},
   "source": [
    "#### Formatiing HighSchool Aggregated Data and the ablove Combined_table for concatenation"
   ]
  },
  {
   "cell_type": "code",
   "execution_count": 10,
   "id": "940d4ce7-cc97-4ead-b99d-49c386558523",
   "metadata": {},
   "outputs": [],
   "source": [
    "# Step 1: Add \"Level of Aggregation\" column with value \"HighSchool\" in df_agg_HS\n",
    "df_agg_HS.insert(0, \"Level of Aggregation\", \"HighSchool\")\n",
    "\n",
    "# Step 2: Rename the 'SampleCollege' column in combined_table to 'School_SampleCollege' for consistency\n",
    "combined_table = combined_table.rename(columns={'SampleCollege': 'School_SampleCollege'})\n",
    "\n",
    "# Step 3: Add \"Level of Aggregation\" column with value \"Overall\" in combined_table\n",
    "combined_table.insert(0, \"Level of Aggregation\", \"Overall\")\n",
    "\n",
    "# Step 4: Concatenate the two dataframes df_agg_HS and combined_table vertically (along rows)\n",
    "df_combined = pd.concat([df_agg_HS, combined_table], ignore_index=True)\n",
    "\n",
    "# Optionally, display the first few rows of the combined dataframe\n",
    "# Uncomment the lines below to inspect the output.\n",
    "#print(df_combined.head())\n"
   ]
  },
  {
   "cell_type": "markdown",
   "id": "2c377900-fe52-4eb0-a43b-62c8bfaf01f7",
   "metadata": {},
   "source": [
    "# 8. Output the concatenated table "
   ]
  },
  {
   "cell_type": "code",
   "execution_count": 2,
   "id": "0265a9e8-cc24-4204-a524-518322a3e72c",
   "metadata": {},
   "outputs": [],
   "source": [
    "# Step 1: Define the file path where the Excel file will be saved\n",
    "# Replace \"sampledrive\\samplefolder\\samplefile\" with correct path (\"drive\\folder\\file\")\n",
    "\n",
    "file_path = 'sampledrive\\samplefolder\\samplefile'\n",
    "\n",
    "# Step 2: Save the aggregated data (df_combined) to an Excel file\n",
    "df_combined.to_excel(file_path, index=False)\n",
    "\n",
    "# Optionally, print a confirmation message\n",
    "print(f\"Combined data has been saved to: {file_path}\")"
   ]
  },
  {
   "cell_type": "code",
   "execution_count": null,
   "id": "4c266185-96ae-4b8d-a43f-5eedf214d014",
   "metadata": {},
   "outputs": [],
   "source": []
  }
 ],
 "metadata": {
  "kernelspec": {
   "display_name": "Python 3 (ipykernel)",
   "language": "python",
   "name": "python3"
  },
  "language_info": {
   "codemirror_mode": {
    "name": "ipython",
    "version": 3
   },
   "file_extension": ".py",
   "mimetype": "text/x-python",
   "name": "python",
   "nbconvert_exporter": "python",
   "pygments_lexer": "ipython3",
   "version": "3.11.7"
  }
 },
 "nbformat": 4,
 "nbformat_minor": 5
}
