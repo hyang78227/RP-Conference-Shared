import nbformat
from nbconvert.preprocessors import ExecutePreprocessor
import os

def run_notebook(notebook_path):
    if not os.path.exists(notebook_path):
        print(f"File not found: {notebook_path}")
        return
    
    with open(notebook_path) as f:
        nb = nbformat.read(f, as_version=4)
        
    ep = ExecutePreprocessor(timeout=600, kernel_name='python3')
    ep.preprocess(nb, {'metadata': {'path': os.path.dirname(notebook_path)}})
    
    with open(notebook_path, 'w', encoding='utf-8') as f:
        nbformat.write(nb, f)

folder_path = r'G:\Shared\SS\From RPNet\Early College Credit\Special Admit Dashboard\RP_Conference_Share'

notebook_files = [
    os.path.join(folder_path, "RP_SpecialAdmit_Headcount_by_HighSchool.ipynb"),
    os.path.join(folder_path, "RPSpecialAdmit_Headcount_combined.ipynb")
]



for notebook_file in notebook_files:
    print(f"Running {notebook_file}...")
    run_notebook(notebook_file)
    print(f"Finished running {notebook_file}")
