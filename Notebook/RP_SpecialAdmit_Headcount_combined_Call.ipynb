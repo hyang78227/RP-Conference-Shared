{
 "cells": [
  {
   "cell_type": "code",
   "execution_count": null,
   "id": "f6650c12-4477-4e84-9258-48fd5994a41e",
   "metadata": {},
   "outputs": [],
   "source": [
    "import nbformat\n",
    "from nbconvert.preprocessors import ExecutePreprocessor\n",
    "import os\n",
    "\n",
    "def run_notebook(notebook_path):\n",
    "    if not os.path.exists(notebook_path):\n",
    "        print(f\"File not found: {notebook_path}\")\n",
    "        return\n",
    "    \n",
    "    with open(notebook_path) as f:\n",
    "        nb = nbformat.read(f, as_version=4)\n",
    "        \n",
    "    ep = ExecutePreprocessor(timeout=600, kernel_name='python3')\n",
    "    ep.preprocess(nb, {'metadata': {'path': os.path.dirname(notebook_path)}})\n",
    "    \n",
    "    with open(notebook_path, 'w', encoding='utf-8') as f:\n",
    "        nbformat.write(nb, f)\n",
    "\n",
    "folder_path = 'sampledrive\samplefolder'\n",
    "\n",
    "notebook_files = [\n",
    "    os.path.join(folder_path, \"RP_SpecialAdmit_Headcount_by_HighSchool.ipynb\"),\n",
    "    os.path.join(folder_path, \"RPSpecialAdmit_Headcount_combined.ipynb\")\n",
    "]\n",
    "\n",
    "\n",
    "\n",
    "for notebook_file in notebook_files:\n",
    "    print(f\"Running {notebook_file}...\")\n",
    "    run_notebook(notebook_file)\n",
    "    print(f\"Finished running {notebook_file}\")\n"
   ]
  }
 ],
 "metadata": {
  "kernelspec": {
   "display_name": "Python 3 (ipykernel)",
   "language": "python",
   "name": "python3"
  },
  "language_info": {
   "codemirror_mode": {
    "name": "ipython",
    "version": 3
   },
   "file_extension": ".py",
   "mimetype": "text/x-python",
   "name": "python",
   "nbconvert_exporter": "python",
   "pygments_lexer": "ipython3",
   "version": "3.11.7"
  }
 },
 "nbformat": 4,
 "nbformat_minor": 5
}
