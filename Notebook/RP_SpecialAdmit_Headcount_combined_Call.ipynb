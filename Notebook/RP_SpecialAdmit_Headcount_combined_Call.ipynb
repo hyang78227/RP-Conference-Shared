import nbformat
from nbconvert.preprocessors import ExecutePreprocessor
import os

def run_notebook(notebook_path):
    """Run a Jupyter notebook and save the executed version."""
    if not os.path.exists(notebook_path):
        print(f"File not found: {notebook_path}")
        return

    # Read the notebook
    with open(notebook_path, encoding='utf-8') as f:
        nb = nbformat.read(f, as_version=4)

    # Prepare the notebook execution environment
    ep = ExecutePreprocessor(timeout=600, kernel_name='python3')

    try:
        # Execute the notebook
        ep.preprocess(nb, {'metadata': {'path': os.path.dirname(notebook_path)}})
    except Exception as e:
        print(f"Error running notebook {notebook_path}: {e}")
        return

    # Save the executed notebook
    with open(notebook_path, 'w', encoding='utf-8') as f:
        nbformat.write(nb, f)

# Folder path where the notebooks are located
folder_path = r'sampledrive\samplefolder'

# List of notebook files to execute
notebook_files = [
    os.path.join(folder_path, "RP_SpecialAdmit_Headcount_by_HighSchool.ipynb"),
    os.path.join(folder_path, "RPSpecialAdmit_Headcount_combined.ipynb")
]

# Execute each notebook in the list
for notebook_file in notebook_files:
    print(f"Running {notebook_file}...")
    run_notebook(notebook_file)
    print(f"Finished running {notebook_file}")
