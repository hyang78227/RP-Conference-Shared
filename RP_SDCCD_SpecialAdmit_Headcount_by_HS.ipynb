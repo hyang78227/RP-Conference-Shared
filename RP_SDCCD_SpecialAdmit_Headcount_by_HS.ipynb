{
 "cells": [
  {
   "cell_type": "markdown",
   "id": "68527d81-6fc1-4347-884a-6a123b13d4bb",
   "metadata": {},
   "source": [
    "# 1. Import Python Pakcages "
   ]
  },
  {
   "cell_type": "code",
   "execution_count": 6,
   "id": "3b03c7f9-3dd9-4fb1-b32a-e5796a0b50d1",
   "metadata": {},
   "outputs": [],
   "source": [
    "import pandas as pd\n",
    "import os\n",
    "import numpy as np\n",
    "import matplotlib.pyplot as plt\n",
    "import seaborn as sns"
   ]
  },
  {
   "cell_type": "markdown",
   "id": "98bd450d-3970-4fff-b4a8-574c144b499f",
   "metadata": {},
   "source": [
    "# 2. Import \"Special Admit Foundation\" Data"
   ]
  },
  {
   "cell_type": "code",
   "execution_count": 8,
   "id": "9ee08755-712c-44cb-a4b9-066cb94f7844",
   "metadata": {},
   "outputs": [
    {
     "name": "stdout",
     "output_type": "stream",
     "text": [
      "True\n"
     ]
    }
   ],
   "source": [
    "# Define the file path\n",
    "file_path = r'G:\\Shared\\SS\\From RPNet\\Early College Credit\\Special Admit Dashboard\\SDCCD Special Admit Foundation.csv'\n",
    "\n",
    "#check to see if the file path exists\n",
    "print(os.path.exists(file_path))\n",
    "\n",
    "# Read the file into a DataFrame named \"df_ecc_2324\"\n",
    "# Assuming the file is delimited by a specific character, for example, a comma. \n",
    "# Adjust the delimiter as needed.\n",
    "df_ecc_2324 = pd.read_csv(file_path, delimiter=',', low_memory=False)  # Change delimiter if necessary\n",
    "\n",
    "# use print(...) to Display the first few rows of the DataFrame to verify\n",
    "print(df_ecc_2324.head())"
   ]
  },
  {
   "cell_type": "markdown",
   "id": "8aab5a21-6e23-4d12-a039-bb03c35a25db",
   "metadata": {},
   "source": [
    " ## Examine \"Special Admit Foundation\" Data"
   ]
  },
  {
   "cell_type": "code",
   "execution_count": 1,
   "id": "9afc2845-9c7d-4ebb-b1d3-3242e15a7ef9",
   "metadata": {},
   "outputs": [],
   "source": [
    "# The .info() method displays summary information about the dataframe,  \n",
    "# including the number of non-null values, data types, and memory usage.  \n",
    "df_ecc_2324.info()"
   ]
  },
  {
   "cell_type": "code",
   "execution_count": 13,
   "id": "4803dc17-e10f-4599-a1d9-f9766e424d52",
   "metadata": {
    "scrolled": true
   },
   "outputs": [],
   "source": [
    "# Display the column names of the dataframe.  \n",
    "df_ecc_2324.columns"
   ]
  },
  {
   "cell_type": "code",
   "execution_count": null,
   "id": "a0d56a26-1a1b-47c9-b2ae-b467ae98b53e",
   "metadata": {},
   "outputs": [],
   "source": [
    "# Display the count of unique values in the 'EnrollType' column, including NaN values.\n",
    "print(df_ecc_2324.EnrollType.value_counts(dropna=False))\n",
    "\n",
    "# Display the count of unique values in the 'HighSchool' column, including NaN values.\n",
    "print(df_ecc_2324.HighSchool.value_counts(dropna=False))\n",
    "\n",
    "#It is found that for SDCCD, the possible symbols to repsent missing values \n",
    "#in HighSchool are blank, \"\", and a space.\n",
    "\n",
    "# Display the count of unique values in the 'AcYr' column, including NaN values.\n",
    "print(df_ecc_2324.AcYr.value_counts(dropna=False))\n",
    "\n",
    "# Display the count of unique values in the 'Ethnicity' column, including NaN values.\n",
    "print(df_ecc_2324.Ethnicity.value_counts(dropna=False))"
   ]
  },
  {
   "cell_type": "code",
   "execution_count": 10,
   "id": "3bf03ae8-c814-4eb3-aff6-71035674065b",
   "metadata": {},
   "outputs": [],
   "source": [
    "# Replace both '' and '\"\"' with 'Unreported' in the HighSchool column\n",
    "df_ecc_2324['HighSchool'] = df_ecc_2324['HighSchool'].replace(['', '\"\"',' '], 'Unreported')"
   ]
  },
  {
   "cell_type": "code",
   "execution_count": null,
   "id": "3ad286e4-4ea7-496d-8e78-1773196d49f7",
   "metadata": {},
   "outputs": [],
   "source": [
    "#convert College values to texts if numeric (1=City, 2 = Mesa, 3 = Miramar)\n",
    "#In SDCCD, we have multiple colleges and colleges are represented by numbers \n",
    "#You may skip this step if this situation does not apply to you\n",
    "\n",
    "# Mapping dictionary\n",
    "college_mapping = {1: 'City', 2: 'Mesa', 3: 'Miramar', 4: 'SDCCE'}\n",
    "\n",
    "# Replacing the numeric values with text values\n",
    "df_ecc_2324['College'] = df_ecc_2324['College'].replace(college_mapping)\n"
   ]
  },
  {
   "cell_type": "code",
   "execution_count": null,
   "id": "b7d751e9-2a00-4569-a2a3-65fa905cae36",
   "metadata": {},
   "outputs": [],
   "source": [
    "# Create and display a two-way frequency table (crosstab)  \n",
    "# showing the count of 'EnrollType' occurrences for each 'HighSchool'.  \n",
    "print(pd.crosstab(df_ecc_2324['HighSchool'], df_ecc_2324['EnrollType']))"
   ]
  },
  {
   "cell_type": "markdown",
   "id": "49eb8101-57af-4875-9167-451bdb6e6ab8",
   "metadata": {},
   "source": [
    " ## Examine Overall Missing Data "
   ]
  },
  {
   "cell_type": "code",
   "execution_count": 12,
   "id": "9f2783f8-6a73-433e-868f-69faa113c4bd",
   "metadata": {},
   "outputs": [],
   "source": [
    "# change i_missing value to 1 to visually check on missing data in other variavbles\n",
    "i_missing=0\n",
    "\n",
    "if i_missing==1:\n",
    "    plt.figure(figsize=(10,6))\n",
    "    sns.displot(\n",
    "        data=df_ecc_2324.isna().melt(value_name=\"missing\"),\n",
    "        y=\"variable\",\n",
    "        hue=\"missing\",\n",
    "        multiple=\"fill\",\n",
    "        aspect=1.25\n",
    "    )"
   ]
  },
  {
   "cell_type": "markdown",
   "id": "24992363-0f3b-45fe-8529-d57c59483e1c",
   "metadata": {},
   "source": [
    "# 3. Data Aggregation"
   ]
  },
  {
   "cell_type": "markdown",
   "id": "a336c12a-4acf-4d06-915e-1335f4598ceb",
   "metadata": {},
   "source": [
    "## 3.1. Aggragate Students by 'HighSchool', 'AcYr', 'EnrollType'"
   ]
  },
  {
   "cell_type": "code",
   "execution_count": 14,
   "id": "04eeaa43-8ea5-4df1-99ff-50ff5a1c9ff1",
   "metadata": {},
   "outputs": [],
   "source": [
    "# Step 1: Filter out all rows with no missing values in the 'HighSchool' column\n",
    "filtered_data = df_ecc_2324.dropna(subset=['HighSchool'])\n",
    "\n",
    "# Aggregate students by 'HighSchool', 'AcYr', 'EnrollType' to get headcounts for each 'EnrollType'\n",
    "aggregated_data = filtered_data.groupby(['HighSchool', 'AcYr', 'EnrollType']).agg({'Emplid': 'nunique'}).reset_index()\n",
    "# rename the count column\n",
    "aggregated_data = aggregated_data.rename(columns={'Emplid': 'HeadCount'})\n",
    "# Pivot the aggregated data to wide format with 'EnrollType' as column\n",
    "wide_table_1 = aggregated_data.pivot_table(index=['HighSchool', 'AcYr'], columns=['EnrollType'], values='HeadCount', fill_value=0)\n",
    "\n",
    "# Aggregate students by 'HighSchool', 'AcYr' to get headcounts (\"SA\") of all EnrollType studnets \n",
    "temp = filtered_data.groupby(['HighSchool', 'AcYr']).agg({'Emplid': 'nunique'})\n",
    "# Rename the count column with 'SA'\n",
    "temp = temp.rename(columns={'Emplid': 'SA'})\n",
    "\n",
    "#combine two aggregations together horizontally\n",
    "wide_table_1= pd.concat([wide_table_1, temp], axis=1)\n",
    "\n",
    "# Add 'SDCCD_' prefix so that the columns names are in foramt of SDCCD_EnrollType_Total\n",
    "wide_table_1.columns = ['SDCCD_' + ''.join(col).strip() + '_Total' for col in wide_table_1.columns.values]\n",
    "wide_table_1.reset_index(inplace=True)\n",
    "# Rename the HighSchool column as School_SDCCD for later join with other tables\n",
    "wide_table_1 = wide_table_1.rename(columns={'HighSchool': 'School_SDCCD'})\n",
    "\n",
    "# Display the aggregated data\n",
    "print(wide_table_1.head())\n",
    "print(wide_table_1.shape)\n"
   ]
  },
  {
   "cell_type": "markdown",
   "id": "0e9d1c7f-0672-4150-bff9-68fe4b1c069b",
   "metadata": {},
   "source": [
    "## 3.2. Aggregate students by 'HighSchool', 'AcYr', 'EnrollType', and 'Ethnicity'"
   ]
  },
  {
   "cell_type": "code",
   "execution_count": 22,
   "id": "1e911aa3-7d8a-4846-95b5-0f29f49fd942",
   "metadata": {},
   "outputs": [],
   "source": [
    "# Aggregate students by 'HighSchool', 'AcYr', 'EnrollType', and 'Ethnicity'  to get headcounts by EnrollTyoe & Ethinicity\n",
    "aggregated_data = filtered_data.groupby(['HighSchool', 'AcYr', 'EnrollType', 'Ethnicity']).agg({'Emplid': 'nunique'}).reset_index()\n",
    "# Rename the count column\n",
    "aggregated_data = aggregated_data.rename(columns={'Emplid': 'HeadCount'})\n",
    "\n",
    "# Pivot the aggregated data to wide format with combined values of 'EnrollType' and 'Ethnicity' as columns\n",
    "wide_table_2 = aggregated_data.pivot_table(index=['HighSchool', 'AcYr'], columns=['EnrollType', 'Ethnicity'], values='HeadCount', fill_value=0)\n",
    "# Change column names--Combining 'EnrollType' and 'Ethnicity' into a single string and adding 'SDCCD_' prefix\n",
    "wide_table_2.columns = ['SDCCD_' + '_'.join(col).strip() for col in wide_table_2.columns.values]\n",
    "\n",
    "\n",
    "# Aggregate students by 'HighSchool', 'AcYr' to get  headcounts for All EnrollType together by Ethinicity\n",
    "temp = filtered_data.groupby(['HighSchool', 'AcYr','Ethnicity']).agg({'Emplid': 'nunique'})\n",
    "#Rename the count column\n",
    "temp = temp.rename(columns={'Emplid': 'HeadCount'})\n",
    "# Pivot the aggregated data to wide format with 'Ethnicity' as columns\n",
    "temp = temp.pivot_table(index=['HighSchool', 'AcYr'], columns='Ethnicity', values='HeadCount', fill_value=0)\n",
    "# Adding 'SDCCD_SA_' prefix\n",
    "temp.columns = ['SDCCD_SA_' + ''.join(col).strip() for col in temp.columns.values]\n",
    "\n",
    "#combine two aggregations together horizontally\n",
    "wide_table_2= pd.concat([wide_table_2, temp], axis=1)\n",
    "wide_table_2.reset_index(inplace=True)\n",
    "\n",
    "# Rename the HighSchool column for later join with otehr tables\n",
    "wide_table_2 = wide_table_2.rename(columns={'HighSchool': 'School_SDCCD'})\n",
    "print(wide_table_2.head())\n",
    "print(wide_table_2.shape)"
   ]
  },
  {
   "cell_type": "markdown",
   "id": "03659adb-5364-41dd-8f89-5109990701f1",
   "metadata": {},
   "source": [
    "## 3.3. Aggragate Students by 'HighSchool', 'AcYr', 'AdmitType'"
   ]
  },
  {
   "cell_type": "code",
   "execution_count": 24,
   "id": "8a5c89a7-fb20-491e-ba24-c1c0fd4d58ab",
   "metadata": {},
   "outputs": [],
   "source": [
    "# Aggregate students by 'HighSchool', 'AcYr', 'AdmitType'\n",
    "aggregated_data = filtered_data.groupby(['HighSchool', 'AcYr', 'AdmitType']).agg({'Emplid': 'nunique'}).reset_index()\n",
    "\n",
    "# Rename the count column\n",
    "aggregated_data = aggregated_data.rename(columns={'Emplid': 'HeadCount'})\n",
    "\n",
    "# Pivot the aggregated data to wide format with 'AdmitType' as columns\n",
    "wide_table_3 = aggregated_data.pivot_table(index=['HighSchool', 'AcYr'], columns=['AdmitType'], values='HeadCount', fill_value=0)\n",
    "\n",
    "#Add 'SDCCD_' prefix to 'AdmitType'\n",
    "wide_table_3.columns = ['SDCCD_' + col + '_Total'  for col in wide_table_3.columns]\n",
    "wide_table_3.reset_index(inplace=True)\n",
    "\n",
    "# Rename the HighSchool column for later join with otehr tables\n",
    "wide_table_3 = wide_table_3.rename(columns={'HighSchool': 'School_SDCCD'})\n",
    "# Display the aggregated data\n",
    "print(wide_table_3.head())\n",
    "print(wide_table_3.shape)\n"
   ]
  },
  {
   "cell_type": "markdown",
   "id": "d194b935-cd8b-4303-89a5-a895fd7acb75",
   "metadata": {},
   "source": [
    "## 3.4. Aggragate Students by 'HighSchool', 'AcYr', 'AdmitType', 'Ethnicity'"
   ]
  },
  {
   "cell_type": "code",
   "execution_count": 26,
   "id": "13000783-f7bd-4ae1-89d5-192209173045",
   "metadata": {},
   "outputs": [],
   "source": [
    "# Aggregate students by 'HighSchool', 'AcYr', 'EnrollType', and 'Ethnicity'\n",
    "aggregated_data = filtered_data.groupby(['HighSchool', 'AcYr', 'AdmitType', 'Ethnicity']).agg({'Emplid': 'nunique'}).reset_index()\n",
    "\n",
    "# Rename the count column\n",
    "aggregated_data = aggregated_data.rename(columns={'Emplid': 'HeadCount'})\n",
    "\n",
    "# Pivot the aggregated data to wide format with combined values of 'AdmitType' and 'Ethnicity' as columns\n",
    "wide_table_4 = aggregated_data.pivot_table(index=['HighSchool', 'AcYr'], columns=['AdmitType', 'Ethnicity'], values='HeadCount', fill_value=0)\n",
    "\n",
    "# Change column names--Combining 'AdmitType' and 'Ethnicity' into a single string and adding 'SDCCD_' prefix\n",
    "wide_table_4.columns = ['SDCCD_' + '_'.join(col).strip() for col in wide_table_4.columns.values]\n",
    "wide_table_4.reset_index(inplace=True)\n",
    "\n",
    "# Rename the HighSchool column\n",
    "wide_table_4 = wide_table_4.rename(columns={'HighSchool': 'School_SDCCD'})\n",
    "\n",
    "\n",
    "# Display the aggregated data\n",
    "print(wide_table_4.head())\n",
    "print(wide_table_4.shape)\n"
   ]
  },
  {
   "cell_type": "markdown",
   "id": "4d68b279-3276-4317-8f00-ad2f886d1d5d",
   "metadata": {},
   "source": [
    "# 4. Combine all the aggregation tables and output as one wide table into an excel file"
   ]
  },
  {
   "cell_type": "code",
   "execution_count": 28,
   "id": "53d88758-a23c-4362-89b9-9d79707503b0",
   "metadata": {},
   "outputs": [],
   "source": [
    "# Concatenate tables horizontally based on common columns\n",
    "combined_table = pd.concat([wide_table_1.set_index([\"School_SDCCD\", \"AcYr\"]),\n",
    "                            wide_table_2.set_index([\"School_SDCCD\", \"AcYr\"]),\n",
    "                            wide_table_3.set_index([\"School_SDCCD\", \"AcYr\"]),\n",
    "                            wide_table_4.set_index([\"School_SDCCD\", \"AcYr\"])],\n",
    "                            axis=1)\n",
    "\n",
    "# Reset index to convert 'School_SDCCD' and 'AcYr' back to columns\n",
    "combined_table.reset_index(inplace=True)\n",
    "combined_table.shape\n",
    "\n",
    "#drop duplicated columns, i.e,.'SDCCD_Concurrent_African America'='SDCCD_Conc_African America ' and so on \n",
    "# List of columns to drop\n",
    "columns_to_drop = [\n",
    "    'SDCCD_Conc_Total', 'SDCCD_Concurrent_African America',\n",
    "    'SDCCD_Concurrent_Asian', 'SDCCD_Concurrent_Filipino',\n",
    "    'SDCCD_Concurrent_Latinx', 'SDCCD_Concurrent_Multi-Ethnicity',\n",
    "    'SDCCD_Concurrent_Native American', 'SDCCD_Concurrent_Pacific Islande',\n",
    "    'SDCCD_Concurrent_Unreported', 'SDCCD_Concurrent_White'\n",
    "]\n",
    "\n",
    "# Drop the specified columns\n",
    "combined_table.drop(columns=columns_to_drop, inplace=True)\n",
    "#renmae \n",
    "combined_table = combined_table.rename(columns={'SDCCD_Concurrent_Total': 'SDCCD_Conc_Total'})\n",
    "\n",
    "\n",
    "# Define the file path\n",
    "file_path = r'G:\\Shared\\SS\\From RPNet\\Early College Credit\\Special Admit Dashboard\\Working Files\\SDCCD_SpecialAdmit_Headcount Aggregation Python Files\\SDCCD_SpecialAdmit_Headcount_agg_HS.xlsx'\n",
    "\n",
    "# Save the aggregated data to an Excel file\n",
    "combined_table.to_excel(file_path, index=False)\n",
    "\n",
    "print(f\"Combined data has been saved to: {file_path}\")"
   ]
  },
  {
   "cell_type": "code",
   "execution_count": null,
   "id": "ac780e31-130c-400f-949d-7e5539bcde74",
   "metadata": {},
   "outputs": [],
   "source": []
  }
 ],
 "metadata": {
  "kernelspec": {
   "display_name": "Python 3 (ipykernel)",
   "language": "python",
   "name": "python3"
  },
  "language_info": {
   "codemirror_mode": {
    "name": "ipython",
    "version": 3
   },
   "file_extension": ".py",
   "mimetype": "text/x-python",
   "name": "python",
   "nbconvert_exporter": "python",
   "pygments_lexer": "ipython3",
   "version": "3.11.7"
  }
 },
 "nbformat": 4,
 "nbformat_minor": 5
}
